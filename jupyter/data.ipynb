{
 "cells": [
  {
   "cell_type": "code",
   "execution_count": 1,
   "id": "286f62a1",
   "metadata": {},
   "outputs": [],
   "source": [
    "import sys, psycopg2\n",
    "import pandas as pd\n",
    "sys.path.append('C:\\\\Projects\\\\uni\\\\sources\\\\companybot\\\\bots')\n",
    "from datetime import datetime\n",
    "from config import DB_NAME, DB_HOST, DB_USER, DB_PASSWORD, CRUNCHBASE_DIR\n",
    "from common import get_data_diff, write_organizations_pending, get_uuids_from_crunchbase_organizations, DataSource, PendingStatus\n",
    "from companies_house_bot import CompaniesHouseBot, run_companies_house_bot\n",
    "from crunchbase_bot import run_crunchbase_bot\n",
    "from linkedin_bot import run_linkedin_bot"
   ]
  },
  {
   "cell_type": "markdown",
   "id": "ea01afbd",
   "metadata": {},
   "source": [
    "## write all data based on list of names"
   ]
  },
  {
   "cell_type": "markdown",
   "id": "2a6968b9",
   "metadata": {},
   "source": [
    "### get uuids by name"
   ]
  },
  {
   "cell_type": "code",
   "execution_count": 6,
   "id": "4c4479b1",
   "metadata": {},
   "outputs": [
    {
     "data": {
      "text/html": [
       "<div>\n",
       "<style scoped>\n",
       "    .dataframe tbody tr th:only-of-type {\n",
       "        vertical-align: middle;\n",
       "    }\n",
       "\n",
       "    .dataframe tbody tr th {\n",
       "        vertical-align: top;\n",
       "    }\n",
       "\n",
       "    .dataframe thead th {\n",
       "        text-align: right;\n",
       "    }\n",
       "</style>\n",
       "<table border=\"1\" class=\"dataframe\">\n",
       "  <thead>\n",
       "    <tr style=\"text-align: right;\">\n",
       "      <th></th>\n",
       "      <th>name</th>\n",
       "      <th>founded_on</th>\n",
       "    </tr>\n",
       "  </thead>\n",
       "  <tbody>\n",
       "    <tr>\n",
       "      <th>0</th>\n",
       "      <td>Elliptic</td>\n",
       "      <td>2013-10-01</td>\n",
       "    </tr>\n",
       "    <tr>\n",
       "      <th>1</th>\n",
       "      <td>Elliptical</td>\n",
       "      <td>None</td>\n",
       "    </tr>\n",
       "    <tr>\n",
       "      <th>2</th>\n",
       "      <td>iSIZE Technologies</td>\n",
       "      <td>2016-09-22</td>\n",
       "    </tr>\n",
       "  </tbody>\n",
       "</table>\n",
       "</div>"
      ],
      "text/plain": [
       "                 name  founded_on\n",
       "0            Elliptic  2013-10-01\n",
       "1          Elliptical        None\n",
       "2  iSIZE Technologies  2016-09-22"
      ]
     },
     "execution_count": 6,
     "metadata": {},
     "output_type": "execute_result"
    }
   ],
   "source": [
    "names = ['elliptic', 'isize']\n",
    "df_uuids = pd.DataFrame(get_uuids_from_crunchbase_organizations(names))\n",
    "uuids = list(df_uuids['uuid'])\n",
    "df_uuids[['name', 'founded_on']]"
   ]
  },
  {
   "cell_type": "code",
   "execution_count": 7,
   "id": "5314e02a",
   "metadata": {
    "scrolled": true
   },
   "outputs": [
    {
     "data": {
      "text/html": [
       "<div>\n",
       "<style scoped>\n",
       "    .dataframe tbody tr th:only-of-type {\n",
       "        vertical-align: middle;\n",
       "    }\n",
       "\n",
       "    .dataframe tbody tr th {\n",
       "        vertical-align: top;\n",
       "    }\n",
       "\n",
       "    .dataframe thead th {\n",
       "        text-align: right;\n",
       "    }\n",
       "</style>\n",
       "<table border=\"1\" class=\"dataframe\">\n",
       "  <thead>\n",
       "    <tr style=\"text-align: right;\">\n",
       "      <th></th>\n",
       "      <th>uuid</th>\n",
       "      <th>uuid_parent</th>\n",
       "      <th>name</th>\n",
       "      <th>legal_name</th>\n",
       "      <th>category_groups_list</th>\n",
       "      <th>founded_on</th>\n",
       "      <th>source</th>\n",
       "      <th>status</th>\n",
       "      <th>version</th>\n",
       "      <th>created_at</th>\n",
       "      <th>updated_at</th>\n",
       "      <th>crunchbase_data</th>\n",
       "    </tr>\n",
       "  </thead>\n",
       "  <tbody>\n",
       "    <tr>\n",
       "      <th>0</th>\n",
       "      <td>5fd4dcb9-77ec-8903-5300-dd4c3da76670</td>\n",
       "      <td>5fd4dcb9-77ec-8903-5300-dd4c3da76670</td>\n",
       "      <td>Elliptic</td>\n",
       "      <td>Elliptic Enterprises Ltd.</td>\n",
       "      <td>[Financial Services, Other, Payments, Software]</td>\n",
       "      <td>2013-10-01</td>\n",
       "      <td>companies_house</td>\n",
       "      <td>pending</td>\n",
       "      <td></td>\n",
       "      <td>2023-05-25 12:44:07</td>\n",
       "      <td>2023-05-25 12:44:07</td>\n",
       "      <td>{'properties': {'company_type': 'for_profit', ...</td>\n",
       "    </tr>\n",
       "    <tr>\n",
       "      <th>1</th>\n",
       "      <td>a7d2f427-66ba-476a-81cc-171a5d806b22</td>\n",
       "      <td>a7d2f427-66ba-476a-81cc-171a5d806b22</td>\n",
       "      <td>iSIZE Technologies</td>\n",
       "      <td>iSIZE Limited.</td>\n",
       "      <td>[Artificial Intelligence, Content and Publishi...</td>\n",
       "      <td>2016-09-22</td>\n",
       "      <td>companies_house</td>\n",
       "      <td>pending</td>\n",
       "      <td></td>\n",
       "      <td>2023-05-25 12:15:53</td>\n",
       "      <td>2023-05-25 12:15:53</td>\n",
       "      <td>{'properties': {'company_type': 'for_profit', ...</td>\n",
       "    </tr>\n",
       "  </tbody>\n",
       "</table>\n",
       "</div>"
      ],
      "text/plain": [
       "                                   uuid                           uuid_parent   \n",
       "0  5fd4dcb9-77ec-8903-5300-dd4c3da76670  5fd4dcb9-77ec-8903-5300-dd4c3da76670  \\\n",
       "1  a7d2f427-66ba-476a-81cc-171a5d806b22  a7d2f427-66ba-476a-81cc-171a5d806b22   \n",
       "\n",
       "                 name                 legal_name   \n",
       "0            Elliptic  Elliptic Enterprises Ltd.  \\\n",
       "1  iSIZE Technologies             iSIZE Limited.   \n",
       "\n",
       "                                category_groups_list founded_on   \n",
       "0    [Financial Services, Other, Payments, Software] 2013-10-01  \\\n",
       "1  [Artificial Intelligence, Content and Publishi... 2016-09-22   \n",
       "\n",
       "            source   status version          created_at          updated_at   \n",
       "0  companies_house  pending         2023-05-25 12:44:07 2023-05-25 12:44:07  \\\n",
       "1  companies_house  pending         2023-05-25 12:15:53 2023-05-25 12:15:53   \n",
       "\n",
       "                                     crunchbase_data  \n",
       "0  {'properties': {'company_type': 'for_profit', ...  \n",
       "1  {'properties': {'company_type': 'for_profit', ...  "
      ]
     },
     "execution_count": 7,
     "metadata": {},
     "output_type": "execute_result"
    }
   ],
   "source": [
    "pd.DataFrame(CompaniesHouseBot.get_data_from_pending(uuids=uuids, force=True))"
   ]
  },
  {
   "cell_type": "markdown",
   "id": "edf8bd0e",
   "metadata": {},
   "source": [
    "### write uuids to pending table"
   ]
  },
  {
   "cell_type": "code",
   "execution_count": 8,
   "id": "98f0f52b",
   "metadata": {},
   "outputs": [
    {
     "name": "stdout",
     "output_type": "stream",
     "text": [
      "write_organizations_pending successful: source: crunchbase status: PendingStatus.pending rows: 2\n"
     ]
    }
   ],
   "source": [
    "### uuids needs to be existing in pending data for any bot to pick them up. bots can only see the data in pending table\n",
    "write_organizations_pending(uuids=uuids,\n",
    "                            category_groups_list='*',\n",
    "                            source=DataSource.crunchbase,\n",
    "                            status=PendingStatus.pending,\n",
    "                            from_dt=datetime.strptime('2012-01-01', '%Y-%m-%d'),\n",
    "                            to_dt=datetime.strptime('2018-01-01', '%Y-%m-%d'),\n",
    "                            force=False)"
   ]
  },
  {
   "cell_type": "markdown",
   "id": "8fa0b978",
   "metadata": {},
   "source": [
    "### run crunchbase bot"
   ]
  },
  {
   "cell_type": "code",
   "execution_count": 9,
   "id": "a08bcafe",
   "metadata": {},
   "outputs": [
    {
     "name": "stdout",
     "output_type": "stream",
     "text": [
      "write data successful: source: crunchbase status: completed company: Elliptic\n",
      "write data successful: source: crunchbase status: completed company: iSIZE Technologies\n"
     ]
    }
   ],
   "source": [
    "# crunchbase bot will run in force mode and overwrite data table as well as write for companies_house into pending\n",
    "run_crunchbase_bot(uuids=uuids, force=True)"
   ]
  },
  {
   "cell_type": "markdown",
   "id": "2450140f",
   "metadata": {},
   "source": [
    "### run companies house bot"
   ]
  },
  {
   "cell_type": "code",
   "execution_count": 10,
   "id": "59efc2d7",
   "metadata": {
    "scrolled": true
   },
   "outputs": [
    {
     "name": "stdout",
     "output_type": "stream",
     "text": [
      "\n",
      "searching for {\"company_name_CB\": \"ELLIPTIC ENTERPRISES LTD.\", \"founded_on_CB\": \"2013-10-01\", \"founders_CB\": [\"Adam Joyce\", \"James Smith\", \"Tom Robinson\"]}\n",
      "successful match by FOUNDER NAME and DATE {\"company_name_CB\": \"ELLIPTIC ENTERPRISES LTD.\", \"company_name_CH\": \"ELLIPTIC ENTERPRISES LIMITED\", \"founded_on_CB\": \"2013-10-01\", \"founded_on_CH\": \"2013-03-22\", \"founders_CB\": [\"Adam Joyce\", \"James Smith\", \"Tom Robinson\"], \"officers_CH\": [\"Edward Lascelles\", \"Simone Maini\", \"Christopher Pilling\", \"Richard Seewald\", \"James Smith\", \"Zihao Xu\", \"Rebecca Hunt\", \"Adam Joyce\", \"Walter Kortschak\", \"Tomoyuki Nii\", \"Eyal Rabinovich\", \"Thomas Robinson\", \"Christopher Scoggins\", \"Christopher Steed\"], \"url_CH\": \"https://find-and-update.company-information.service.gov.uk/company/08458210\"}\n",
      "FOUND and starting to crawl{\"company_name_CB\": \"ELLIPTIC ENTERPRISES LTD.\", \"founded_on_CB\": \"2013-10-01\", \"founders_CB\": [\"Adam Joyce\", \"James Smith\", \"Tom Robinson\"], \"url\": \"https://find-and-update.company-information.service.gov.uk/company/08458210\"}.\n"
     ]
    },
    {
     "name": "stderr",
     "output_type": "stream",
     "text": [
      "C:\\Users\\Djordje\\miniconda3\\lib\\site-packages\\scrapy\\utils\\request.py:232: ScrapyDeprecationWarning: '2.6' is a deprecated value for the 'REQUEST_FINGERPRINTER_IMPLEMENTATION' setting.\n",
      "\n",
      "It is also the default value. In other words, it is normal to get this warning if you have not defined a value for the 'REQUEST_FINGERPRINTER_IMPLEMENTATION' setting. This is so for backward compatibility reasons, but it will change in a future version of Scrapy.\n",
      "\n",
      "See the documentation of the 'REQUEST_FINGERPRINTER_IMPLEMENTATION' setting for information on how to handle this deprecation.\n",
      "  return cls(crawler)\n"
     ]
    },
    {
     "name": "stdout",
     "output_type": "stream",
     "text": [
      "parse_insolvency company:Elliptic url: https://find-and-update.company-information.service.gov.uk/company/08458210/insolvency\n",
      "parse_insolvency completed 1 {\"url\": \"https://find-and-update.company-information.service.gov.uk/company/08458210/insolvency\", \"items\": []}\n",
      "parse_company_info company:Elliptic url: https://find-and-update.company-information.service.gov.uk/company/08458210\n",
      "parse_company_info completed 2 {\"company_name\": \"ELLIPTIC ENTERPRISES LIMITED\", \"company_id\": \"08458210\", \"url\": \"https://find-and-update.company-information.service.gov.uk/company/08458210\", \"key\": \"company\", \"address\": \"Office 7 35-37 Ludgate Hill, London, England, EC4M 7JN\", \"status\": \"Active\", \"type\": \"Private limited Company\", \"incorporated_on\": \"2013-03-22\", \"sics\": [\"62090 - Other information technology service activities\"]}\n"
     ]
    },
    {
     "name": "stderr",
     "output_type": "stream",
     "text": [
      "C:\\Users\\Djordje\\miniconda3\\lib\\site-packages\\scrapy\\selector\\unified.py:83: UserWarning: Selector got both text and root, root is being ignored.\n",
      "  super().__init__(text=text, type=st, root=root, **kwargs)\n"
     ]
    },
    {
     "name": "stdout",
     "output_type": "stream",
     "text": [
      "parse_filing company: Elliptic url: https://find-and-update.company-information.service.gov.uk/company/08458210/filing-history\n",
      "parse_confirmation_statement: 2023-03-22 https://find-and-update.company-information.service.gov.uk/company/08458210/filing-history/MzM3NzQ2NTc2NWFkaXF6a2N4/document?format=pdf&download=0\n",
      "parse_confirmation_statement completed: 2023-03-22 https://find-and-update.company-information.service.gov.uk/company/08458210/filing-history/MzM3NzQ2NTc2NWFkaXF6a2N4/document?format=pdf&download=0\n",
      "parse_confirmation_statement: 2022-03-22 https://find-and-update.company-information.service.gov.uk/company/08458210/filing-history/MzMzNzM2NzI5NmFkaXF6a2N4/document?format=pdf&download=0\n",
      "parse_confirmation_statement completed: 2022-03-22 https://find-and-update.company-information.service.gov.uk/company/08458210/filing-history/MzMzNzM2NzI5NmFkaXF6a2N4/document?format=pdf&download=0\n",
      "parse_officers company: Elliptic url: https://find-and-update.company-information.service.gov.uk/company/08458210/officers\n",
      "parse_officers completed 3 {\"url\": \"https://find-and-update.company-information.service.gov.uk/company/08458210/officers\", \"items\": [{\"name\": \"Hunt, Rebecca\", \"appointments_url\": \"https://find-and-update.company-information.service.gov.uk/officers/SUCJyr54OxEZeFkHbvNKPma-zfM/appointments\", \"address\": \"33 Holborn, London, EC1N 2HT\", \"status\": null, \"role\": \"Director\", \"appointed_on\": \"2016-02-22\", \"resigned_on\": \"2017-01-24\", \"date_of_birth\": \"1986-05-01\", \"nationality\": \"British\", \"residence\": \"United Kingdom\", \"occupation\": \"Director\"}, {\"name\": \"Joyce, Adam Jack, Dr\", \"appointments_url\": \"https://find-and-update.company-information.service.gov.uk/officers/7TwJ4s87z5PnfpRsGTpeUFm9xp8/appointments\", \"address\": \"22 Upper Ground, London, England, SE1 9PD\", \"status\": null, \"role\": \"Director\", \"appointed_on\": \"2013-10-03\", \"resigned_on\": \"2016-02-22\", \"date_of_birth\": \"1979-09-01\", \"nationality\": \"British\", \"residence\": \"England\", \"occupation\": \"Company Director\"}, {\"name\": \"Kortschak, Walter German\", \"appointments_url\": \"https://find-and-update.company-information.service.gov.uk/officers/_4JgMD2R2BnD603fNrvgLx1V-TI/appointments\", \"address\": \"Suite 190, 333 Bryant Street, San Francisco, California, United States, 94107\", \"status\": null, \"role\": \"Director\", \"appointed_on\": \"2017-12-22\", \"resigned_on\": \"2020-04-07\", \"date_of_birth\": \"1959-05-01\", \"nationality\": \"American\", \"residence\": \"United States\", \"occupation\": \"Investor\"}, {\"name\": \"Lascelles, Edward William Anthony\", \"appointments_url\": \"https://find-and-update.company-information.service.gov.uk/officers/BgYLlG1iLPMjwx-xaIawO6pxRWM/appointments\", \"address\": \"1 Benjamin Street, London, United Kingdom, EC1M 5QL\", \"status\": \"Active\", \"role\": \"Director\", \"appointed_on\": \"2019-08-22\", \"resigned_on\": null, \"date_of_birth\": \"1975-10-01\", \"nationality\": \"British\", \"residence\": \"England\", \"occupation\": \"Investment Manager\"}, {\"name\": \"Maini, Simone Devika\", \"appointments_url\": \"https://find-and-update.company-information.service.gov.uk/officers/A7cvUd2_RfjWSUdEUX8XGQpY-YI/appointments\", \"address\": \"Office 7, 35-37 Ludgate Hill, London, England, EC4M 7JN\", \"status\": \"Active\", \"role\": \"Director\", \"appointed_on\": \"2020-04-07\", \"resigned_on\": null, \"date_of_birth\": \"1982-11-01\", \"nationality\": \"British\", \"residence\": \"United Kingdom\", \"occupation\": \"Director\"}, {\"name\": \"Nii, Tomoyuki\", \"appointments_url\": \"https://find-and-update.company-information.service.gov.uk/officers/ZZTYw35F8OT0qVNa09f7M2TDS7E/appointments\", \"address\": \"Itzumi Garden Tower 19f 1-6-1 Roppongi, Minato-Ku, Tokyo, Japan, 106-6019\", \"status\": null, \"role\": \"Director\", \"appointed_on\": \"2019-08-22\", \"resigned_on\": \"2021-10-01\", \"date_of_birth\": \"1967-02-01\", \"nationality\": \"Japanese\", \"residence\": \"Japan\", \"occupation\": \"Executive Officer\"}, {\"name\": \"Pilling, Christopher Charles\", \"appointments_url\": \"https://find-and-update.company-information.service.gov.uk/officers/qCxpm82uUMP_xYVj1QN6cZdmHeM/appointments\", \"address\": \"Office 7, 35-37 Ludgate Hill, London, England, EC4M 7JN\", \"status\": \"Active\", \"role\": \"Director\", \"appointed_on\": \"2021-01-01\", \"resigned_on\": null, \"date_of_birth\": \"1966-06-01\", \"nationality\": \"British\", \"residence\": \"United Kingdom\", \"occupation\": \"None\"}, {\"name\": \"Rabinovich, Eyal\", \"appointments_url\": \"https://find-and-update.company-information.service.gov.uk/officers/8tPlTTqpUgNCMhvnfoaXGiRbJoY/appointments\", \"address\": \"Octopus Ventures, 33 Holborn, London, England, EC1N 2HT\", \"status\": null, \"role\": \"Director\", \"appointed_on\": \"2017-01-24\", \"resigned_on\": \"2019-02-18\", \"date_of_birth\": \"1984-07-01\", \"nationality\": \"Israeli,Austrian\", \"residence\": \"United Kingdom\", \"occupation\": \"Venture Capital Investor\"}, {\"name\": \"Robinson, Thomas\", \"appointments_url\": \"https://find-and-update.company-information.service.gov.uk/officers/2LRM49N9W8HnX_lMasBd6aFyBFc/appointments\", \"address\": \"Office 7, 35-37 Ludgate Hill, London, England, EC4M 7JN\", \"status\": null, \"role\": \"Director\", \"appointed_on\": \"2013-03-22\", \"resigned_on\": \"2020-04-07\", \"date_of_birth\": \"1981-02-01\", \"nationality\": \"British\", \"residence\": \"England\", \"occupation\": \"Director\"}, {\"name\": \"Scoggins, Christopher\", \"appointments_url\": \"https://find-and-update.company-information.service.gov.uk/officers/W5q7MQAoHFKT2CsFQn6mHtzHPQM/appointments\", \"address\": \"Office 7, 35-37 Ludgate Hill, London, England, EC4M 7JN\", \"status\": null, \"role\": \"Director\", \"appointed_on\": \"2018-07-31\", \"resigned_on\": \"2021-10-01\", \"date_of_birth\": \"1973-06-01\", \"nationality\": \"American\", \"residence\": \"United States\", \"occupation\": \"Venture Capital\"}, {\"name\": \"Seewald, Richard\", \"appointments_url\": \"https://find-and-update.company-information.service.gov.uk/officers/KDUozgwQaqV7w0TbIpg3pvZe1cw/appointments\", \"address\": \"15 Boulevard F.W. Raiffeisen, Luxembourg, Luxembourg, L-2411\", \"status\": \"Active\", \"role\": \"Director\", \"appointed_on\": \"2021-10-06\", \"resigned_on\": null, \"date_of_birth\": \"1965-07-01\", \"nationality\": \"American\", \"residence\": \"Czech Republic\", \"occupation\": \"Venture Capital\"}, {\"name\": \"Smith, James Sullivan\", \"appointments_url\": \"https://find-and-update.company-information.service.gov.uk/officers/1HNK3Y_PMMOomgG45VBhIrGgf2U/appointments\", \"address\": \"Office 7, 35-37 Ludgate Hill, London, England, EC4M 7JN\", \"status\": \"Active\", \"role\": \"Director\", \"appointed_on\": \"2013-03-27\", \"resigned_on\": null, \"date_of_birth\": \"1983-01-01\", \"nationality\": \"British\", \"residence\": \"United Kingdom\", \"occupation\": \"Company Director\"}, {\"name\": \"Steed, Christopher\", \"appointments_url\": \"https://find-and-update.company-information.service.gov.uk/officers/iEoeiNlm-jNcUpMrKHqEVBrD344/appointments\", \"address\": \"2020 K Street Nw, Suite 400, Washington Dv, Usa, 20006\", \"status\": null, \"role\": \"Director\", \"appointed_on\": \"2016-02-22\", \"resigned_on\": \"2017-12-22\", \"date_of_birth\": \"1983-10-01\", \"nationality\": \"American\", \"residence\": \"United States\", \"occupation\": \"Managing Director\"}, {\"name\": \"Xu, Zihao\", \"appointments_url\": \"https://find-and-update.company-information.service.gov.uk/officers/Fr1JQD9jJJs0DOtfRyeZY8FIGK8/appointments\", \"address\": \"33 Holborn, London, United Kingdom, EC1N 2HT\", \"status\": \"Active\", \"role\": \"Director\", \"appointed_on\": \"2019-02-18\", \"resigned_on\": null, \"date_of_birth\": \"1989-04-01\", \"nationality\": \"British\", \"residence\": \"United Kingdom\", \"occupation\": \"Venture Capital Investor\"}]}\n"
     ]
    },
    {
     "name": "stderr",
     "output_type": "stream",
     "text": [
      "C:\\Users\\Djordje\\miniconda3\\lib\\site-packages\\scrapy\\selector\\unified.py:83: UserWarning: Selector got both text and root, root is being ignored.\n",
      "  super().__init__(text=text, type=st, root=root, **kwargs)\n",
      "C:\\Users\\Djordje\\miniconda3\\lib\\site-packages\\scrapy\\selector\\unified.py:83: UserWarning: Selector got both text and root, root is being ignored.\n",
      "  super().__init__(text=text, type=st, root=root, **kwargs)\n"
     ]
    },
    {
     "name": "stdout",
     "output_type": "stream",
     "text": [
      "parse_appointments company: Elliptic officer: Simone Devika Maini [0/14] url: https://find-and-update.company-information.service.gov.uk/officers/A7cvUd2_RfjWSUdEUX8XGQpY-YI/appointments\n",
      "parse_appointments company finished: Elliptic [1/14] url: https://find-and-update.company-information.service.gov.uk/officers/A7cvUd2_RfjWSUdEUX8XGQpY-YI/appointments\n",
      "parse_appointments company: Elliptic officer: Christopher Charles Pilling [1/14] url: https://find-and-update.company-information.service.gov.uk/officers/qCxpm82uUMP_xYVj1QN6cZdmHeM/appointments\n",
      "parse_appointments company finished: Elliptic [2/14] url: https://find-and-update.company-information.service.gov.uk/officers/qCxpm82uUMP_xYVj1QN6cZdmHeM/appointments\n",
      "parse_appointments company: Elliptic officer: Richard Seewald [2/14] url: https://find-and-update.company-information.service.gov.uk/officers/KDUozgwQaqV7w0TbIpg3pvZe1cw/appointments\n",
      "parse_appointments company finished: Elliptic [3/14] url: https://find-and-update.company-information.service.gov.uk/officers/KDUozgwQaqV7w0TbIpg3pvZe1cw/appointments\n",
      "parse_appointments company: Elliptic officer: James Sullivan Smith [3/14] url: https://find-and-update.company-information.service.gov.uk/officers/1HNK3Y_PMMOomgG45VBhIrGgf2U/appointments\n",
      "parse_appointments company finished: Elliptic [4/14] url: https://find-and-update.company-information.service.gov.uk/officers/1HNK3Y_PMMOomgG45VBhIrGgf2U/appointments\n",
      "parse_appointments company: Elliptic officer: Adam Jack Joyce [4/14] url: https://find-and-update.company-information.service.gov.uk/officers/7TwJ4s87z5PnfpRsGTpeUFm9xp8/appointments\n",
      "parse_appointments company finished: Elliptic [5/14] url: https://find-and-update.company-information.service.gov.uk/officers/7TwJ4s87z5PnfpRsGTpeUFm9xp8/appointments\n",
      "parse_appointments company: Elliptic officer: Christopher Scoggins [5/14] url: https://find-and-update.company-information.service.gov.uk/officers/W5q7MQAoHFKT2CsFQn6mHtzHPQM/appointments\n",
      "parse_appointments company finished: Elliptic [6/14] url: https://find-and-update.company-information.service.gov.uk/officers/W5q7MQAoHFKT2CsFQn6mHtzHPQM/appointments\n",
      "parse_appointments company: Elliptic officer: Thomas Robinson [6/14] url: https://find-and-update.company-information.service.gov.uk/officers/2LRM49N9W8HnX_lMasBd6aFyBFc/appointments\n",
      "parse_appointments company finished: Elliptic [7/14] url: https://find-and-update.company-information.service.gov.uk/officers/2LRM49N9W8HnX_lMasBd6aFyBFc/appointments\n",
      "parse_appointments company: Elliptic officer: Rebecca Hunt [7/14] url: https://find-and-update.company-information.service.gov.uk/officers/SUCJyr54OxEZeFkHbvNKPma-zfM/appointments\n",
      "parse_appointments company finished: Elliptic [8/14] url: https://find-and-update.company-information.service.gov.uk/officers/SUCJyr54OxEZeFkHbvNKPma-zfM/appointments\n",
      "parse_filing company: Elliptic url: https://find-and-update.company-information.service.gov.uk/company/08458210/filing-history?page=2\n",
      "parse_confirmation_statement: 2021-03-22 https://find-and-update.company-information.service.gov.uk/company/08458210/filing-history/MzMwMDMxOTc4N2FkaXF6a2N4/document?format=pdf&download=0\n",
      "parse_confirmation_statement completed: 2021-03-22 https://find-and-update.company-information.service.gov.uk/company/08458210/filing-history/MzMwMDMxOTc4N2FkaXF6a2N4/document?format=pdf&download=0\n",
      "parse_confirmation_statement: 2020-03-22 https://find-and-update.company-information.service.gov.uk/company/08458210/filing-history/MzI2MjAxOTEwNmFkaXF6a2N4/document?format=pdf&download=0\n",
      "parse_confirmation_statement completed: 2020-03-22 https://find-and-update.company-information.service.gov.uk/company/08458210/filing-history/MzI2MjAxOTEwNmFkaXF6a2N4/document?format=pdf&download=0\n",
      "parse_appointments company: Elliptic officer: Edward William Anthony Lascelles [8/14] url: https://find-and-update.company-information.service.gov.uk/officers/BgYLlG1iLPMjwx-xaIawO6pxRWM/appointments\n",
      "parse_appointments company finished: Elliptic [9/14] url: https://find-and-update.company-information.service.gov.uk/officers/BgYLlG1iLPMjwx-xaIawO6pxRWM/appointments\n",
      "parse_appointments company: Elliptic officer: Tomoyuki Nii [9/14] url: https://find-and-update.company-information.service.gov.uk/officers/ZZTYw35F8OT0qVNa09f7M2TDS7E/appointments\n",
      "parse_appointments company finished: Elliptic [10/14] url: https://find-and-update.company-information.service.gov.uk/officers/ZZTYw35F8OT0qVNa09f7M2TDS7E/appointments\n",
      "parse_appointments company: Elliptic officer: Eyal Rabinovich [10/14] url: https://find-and-update.company-information.service.gov.uk/officers/8tPlTTqpUgNCMhvnfoaXGiRbJoY/appointments\n",
      "parse_appointments company finished: Elliptic [11/14] url: https://find-and-update.company-information.service.gov.uk/officers/8tPlTTqpUgNCMhvnfoaXGiRbJoY/appointments\n",
      "parse_appointments company: Elliptic officer: Zihao Xu [11/14] url: https://find-and-update.company-information.service.gov.uk/officers/Fr1JQD9jJJs0DOtfRyeZY8FIGK8/appointments\n",
      "parse_appointments company finished: Elliptic [12/14] url: https://find-and-update.company-information.service.gov.uk/officers/Fr1JQD9jJJs0DOtfRyeZY8FIGK8/appointments\n",
      "parse_appointments company: Elliptic officer: Walter German Kortschak [12/14] url: https://find-and-update.company-information.service.gov.uk/officers/_4JgMD2R2BnD603fNrvgLx1V-TI/appointments\n",
      "parse_appointments company finished: Elliptic [13/14] url: https://find-and-update.company-information.service.gov.uk/officers/_4JgMD2R2BnD603fNrvgLx1V-TI/appointments\n",
      "parse_appointments company: Elliptic officer: Christopher Steed [13/14] url: https://find-and-update.company-information.service.gov.uk/officers/iEoeiNlm-jNcUpMrKHqEVBrD344/appointments\n",
      "parse_appointments company finished: Elliptic [14/14] url: https://find-and-update.company-information.service.gov.uk/officers/iEoeiNlm-jNcUpMrKHqEVBrD344/appointments\n",
      "parse_appointments completed 4\n"
     ]
    },
    {
     "name": "stderr",
     "output_type": "stream",
     "text": [
      "C:\\Users\\Djordje\\miniconda3\\lib\\site-packages\\scrapy\\selector\\unified.py:83: UserWarning: Selector got both text and root, root is being ignored.\n",
      "  super().__init__(text=text, type=st, root=root, **kwargs)\n"
     ]
    },
    {
     "name": "stdout",
     "output_type": "stream",
     "text": [
      "parse_filing company: Elliptic url: https://find-and-update.company-information.service.gov.uk/company/08458210/filing-history?page=3\n",
      "parse_confirmation_statement: 2019-03-22 https://find-and-update.company-information.service.gov.uk/company/08458210/filing-history/MzIzMTM4NTY3M2FkaXF6a2N4/document?format=pdf&download=0\n",
      "parse_confirmation_statement completed: 2019-03-22 https://find-and-update.company-information.service.gov.uk/company/08458210/filing-history/MzIzMTM4NTY3M2FkaXF6a2N4/document?format=pdf&download=0\n",
      "parse_confirmation_statement: 2018-03-22 https://find-and-update.company-information.service.gov.uk/company/08458210/filing-history/MzIwMTkwNzY2MWFkaXF6a2N4/document?format=pdf&download=0\n",
      "parse_confirmation_statement completed: 2018-03-22 https://find-and-update.company-information.service.gov.uk/company/08458210/filing-history/MzIwMTkwNzY2MWFkaXF6a2N4/document?format=pdf&download=0\n",
      "parse_confirmation_statement: 2017-03-22 https://find-and-update.company-information.service.gov.uk/company/08458210/filing-history/MzE3Mjc5OTgyNGFkaXF6a2N4/document?format=pdf&download=0\n",
      "parse_confirmation_statement completed: 2017-03-22 https://find-and-update.company-information.service.gov.uk/company/08458210/filing-history/MzE3Mjc5OTgyNGFkaXF6a2N4/document?format=pdf&download=0\n",
      "parse_filing company: Elliptic url: https://find-and-update.company-information.service.gov.uk/company/08458210/filing-history?page=4\n",
      "parse_annual_return: 2016-03-22 https://find-and-update.company-information.service.gov.uk/company/08458210/filing-history/MzE0NjY0ODc5N2FkaXF6a2N4/document?format=pdf&download=0\n"
     ]
    },
    {
     "name": "stderr",
     "output_type": "stream",
     "text": [
      "C:\\Users\\Djordje\\miniconda3\\lib\\site-packages\\scrapy\\selector\\unified.py:83: UserWarning: Selector got both text and root, root is being ignored.\n",
      "  super().__init__(text=text, type=st, root=root, **kwargs)\n"
     ]
    },
    {
     "name": "stdout",
     "output_type": "stream",
     "text": [
      "parse_filing company: Elliptic url: https://find-and-update.company-information.service.gov.uk/company/08458210/filing-history?page=5\n",
      "parse_annual_return: 2015-03-22 https://find-and-update.company-information.service.gov.uk/company/08458210/filing-history/MzEyMjUxNjA2OGFkaXF6a2N4/document?format=pdf&download=0\n"
     ]
    },
    {
     "name": "stderr",
     "output_type": "stream",
     "text": [
      "C:\\Users\\Djordje\\miniconda3\\lib\\site-packages\\scrapy\\selector\\unified.py:83: UserWarning: Selector got both text and root, root is being ignored.\n",
      "  super().__init__(text=text, type=st, root=root, **kwargs)\n"
     ]
    },
    {
     "name": "stdout",
     "output_type": "stream",
     "text": [
      "parse_annual_return: 2014-03-22 https://find-and-update.company-information.service.gov.uk/company/08458210/filing-history/MzA5NzMzMzQzMWFkaXF6a2N4/document?format=pdf&download=0\n",
      "parse_filing company: Elliptic url: https://find-and-update.company-information.service.gov.uk/company/08458210/filing-history?page=6\n",
      "parse_incorporation: 2013-03-22 https://find-and-update.company-information.service.gov.uk/company/08458210/filing-history/MzA3NDk4NDk2M2FkaXF6a2N4/document?format=pdf&download=0\n"
     ]
    },
    {
     "name": "stderr",
     "output_type": "stream",
     "text": [
      "C:\\Users\\Djordje\\miniconda3\\lib\\site-packages\\scrapy\\selector\\unified.py:83: UserWarning: Selector got both text and root, root is being ignored.\n",
      "  super().__init__(text=text, type=st, root=root, **kwargs)\n"
     ]
    },
    {
     "name": "stdout",
     "output_type": "stream",
     "text": [
      "parse_filing company: Elliptic url: https://find-and-update.company-information.service.gov.uk/company/08458210/filing-history?page=7\n",
      "parse_filing completed 5 {\"url\": \"https://find-and-update.company-information.service.gov.uk/company/08458210/filing-history\", \"items\": []}\n",
      "parse_finished\n",
      "get_persons {\"company_id\": \"08458210\", \"company_name\": \"ELLIPTIC ENTERPRISES LIMITED\", \"items\": [{\"name\": \"Adam Joyce\", \"full_name\": \"Joyce, Adam Jack, Dr\", \"occupation\": [\"Director\", \"Shareholder\"], \"date_of_birth\": \"1979-09-01\"}, {\"name\": \"Christopher Pilling\", \"full_name\": \"Pilling, Christopher Charles\", \"occupation\": [\"Director\"], \"date_of_birth\": \"1966-06-01\"}, {\"name\": \"Christopher Scoggins\", \"full_name\": \"Scoggins, Christopher\", \"occupation\": [\"Director\"], \"date_of_birth\": \"1973-06-01\"}, {\"name\": \"Christopher Steed\", \"full_name\": \"Steed, Christopher\", \"occupation\": [\"Director\"], \"date_of_birth\": \"1983-10-01\"}, {\"name\": \"Edward Lascelles\", \"full_name\": \"Lascelles, Edward William Anthony\", \"occupation\": [\"Director\"], \"date_of_birth\": \"1975-10-01\"}, {\"name\": \"Eyal Rabinovich\", \"full_name\": \"Rabinovich, Eyal\", \"occupation\": [\"Director\"], \"date_of_birth\": \"1984-07-01\"}, {\"name\": \"James Smith\", \"full_name\": \"Smith, James Sullivan\", \"occupation\": [\"Director\", \"Shareholder\"], \"date_of_birth\": \"1983-01-01\"}, {\"name\": \"Rebecca Hunt\", \"full_name\": \"Hunt, Rebecca\", \"occupation\": [\"Director\"], \"date_of_birth\": \"1986-05-01\"}, {\"name\": \"Richard Seewald\", \"full_name\": \"Seewald, Richard\", \"occupation\": [\"Director\"], \"date_of_birth\": \"1965-07-01\"}, {\"name\": \"Simone Maini\", \"full_name\": \"Maini, Simone Devika\", \"occupation\": [\"Director\"], \"date_of_birth\": \"1982-11-01\"}, {\"name\": \"Thomas Robinson\", \"full_name\": \"Robinson, Thomas\", \"occupation\": [\"Director\", \"Shareholder\", \"Founder\"], \"date_of_birth\": \"1981-02-01\"}, {\"name\": \"Tomoyuki Nii\", \"full_name\": \"Nii, Tomoyuki\", \"occupation\": [\"Director\"], \"date_of_birth\": \"1967-02-01\"}, {\"name\": \"Walter Kortschak\", \"full_name\": \"Kortschak, Walter German\", \"occupation\": [\"Director\"], \"date_of_birth\": \"1959-05-01\"}, {\"name\": \"Zihao Xu\", \"full_name\": \"Xu, Zihao\", \"occupation\": [\"Director\"], \"date_of_birth\": \"1989-04-01\"}, {\"name\": \"Abigail Bryant\", \"full_name\": \"Bryant, Abigail\", \"occupation\": [\"Shareholder\"], \"date_of_birth\": null}, {\"name\": \"Alexandra Kowenicki\", \"full_name\": \"Kowenicki, Alexandra\", \"occupation\": [\"Shareholder\"], \"date_of_birth\": null}, {\"name\": \"Alexis Lui\", \"full_name\": \"Lui, Alexis\", \"occupation\": [\"Shareholder\"], \"date_of_birth\": null}, {\"name\": \"Alysia Huggins\", \"full_name\": \"Huggins, Alysia\", \"occupation\": [\"Shareholder\"], \"date_of_birth\": null}, {\"name\": \"Andre Reina\", \"full_name\": \"Reina, Andre\", \"occupation\": [\"Shareholder\"], \"date_of_birth\": null}, {\"name\": \"Andrea Ramoino\", \"full_name\": \"Ramoino, Andrea\", \"occupation\": [\"Shareholder\"], \"date_of_birth\": null}, {\"name\": \"Bayo Akinmejiwa\", \"full_name\": \"Akinmejiwa, Bayo\", \"occupation\": [\"Shareholder\"], \"date_of_birth\": null}, {\"name\": \"Carlos Rivera\", \"full_name\": \"Rivera, Carlos\", \"occupation\": [\"Shareholder\"], \"date_of_birth\": null}, {\"name\": \"Chris Mairs\", \"full_name\": \"Mairs, Chris\", \"occupation\": [\"Shareholder\"], \"date_of_birth\": null}, {\"name\": \"Ciaran Alexander Mcveigh\", \"full_name\": \"Mcveigh, Ciaran Alexander\", \"occupation\": [\"Shareholder\"], \"date_of_birth\": null}, {\"name\": \"Daniel Masters\", \"full_name\": \"Masters, Daniel\", \"occupation\": [\"Shareholder\"], \"date_of_birth\": null}, {\"name\": \"David Harris\", \"full_name\": \"Harris, David\", \"occupation\": [\"Shareholder\"], \"date_of_birth\": null}, {\"name\": \"David Maclean\", \"full_name\": \"Maclean, David\", \"occupation\": [\"Shareholder\"], \"date_of_birth\": null}, {\"name\": \"Edward Lyons\", \"full_name\": \"Lyons, Edward\", \"occupation\": [\"Shareholder\"], \"date_of_birth\": null}, {\"name\": \"Elizabeth Oluyitan\", \"full_name\": \"Oluyitan, Elizabeth\", \"occupation\": [\"Shareholder\"], \"date_of_birth\": null}, {\"name\": \"Eric Rosenblum\", \"full_name\": \"Rosenblum, Eric\", \"occupation\": [\"Shareholder\"], \"date_of_birth\": null}, {\"name\": \"Errol Damelin\", \"full_name\": \"Damelin, Errol\", \"occupation\": [\"Shareholder\"], \"date_of_birth\": null}, {\"name\": \"Evolution Technology Fund Ii Scsp\", \"full_name\": \"Scsp, Evolution Technology Fund Ii\", \"occupation\": [\"Shareholder\"], \"date_of_birth\": null}, {\"name\": \"Heidi Wilder\", \"full_name\": \"Wilder, Heidi\", \"occupation\": [\"Shareholder\"], \"date_of_birth\": null}, {\"name\": \"Ivan Mazour\", \"full_name\": \"Mazour, Ivan\", \"occupation\": [\"Shareholder\"], \"date_of_birth\": null}, {\"name\": \"James Sullivan Smith\", \"full_name\": \"Smith, James Sullivan\", \"occupation\": [\"Shareholder\"], \"date_of_birth\": null}, {\"name\": \"John Connolly\", \"full_name\": \"Connolly, John\", \"occupation\": [\"Shareholder\"], \"date_of_birth\": null}, {\"name\": \"John Power\", \"full_name\": \"Power, John\", \"occupation\": [\"Shareholder\"], \"date_of_birth\": null}, {\"name\": \"Jonathan Bradshaw\", \"full_name\": \"Bradshaw, Jonathan\", \"occupation\": [\"Shareholder\"], \"date_of_birth\": null}, {\"name\": \"Journey Li\", \"full_name\": \"Li, Journey\", \"occupation\": [\"Shareholder\"], \"date_of_birth\": null}, {\"name\": \"Jpmorgan Chase Funding Inc.\", \"full_name\": \"Inc., Jpmorgan Chase Funding\", \"occupation\": [\"Shareholder\"], \"date_of_birth\": null}, {\"name\": \"Ken Yagami\", \"full_name\": \"Yagami, Ken\", \"occupation\": [\"Shareholder\"], \"date_of_birth\": null}, {\"name\": \"Leonardo Picardo\", \"full_name\": \"Picardo, Leonardo\", \"occupation\": [\"Shareholder\"], \"date_of_birth\": null}, {\"name\": \"Liam Malcolm\", \"full_name\": \"Malcolm, Liam\", \"occupation\": [\"Shareholder\"], \"date_of_birth\": null}, {\"name\": \"Liat Shetret\", \"full_name\": \"Shetret, Liat\", \"occupation\": [\"Shareholder\"], \"date_of_birth\": null}, {\"name\": \"Lily Fisher\", \"full_name\": \"Fisher, Lily\", \"occupation\": [\"Shareholder\"], \"date_of_birth\": null}, {\"name\": \"Maria Ines Pastor Pereira Da Silva\", \"full_name\": \"Silva, Maria Ines Pastor Pereira Da\", \"occupation\": [\"Shareholder\"], \"date_of_birth\": null}, {\"name\": \"Martine Niejadlik\", \"full_name\": \"Niejadlik, Martine\", \"occupation\": [\"Shareholder\"], \"date_of_birth\": null}, {\"name\": \"Matej Kvasnovsky\", \"full_name\": \"Kvasnovsky, Matej\", \"occupation\": [\"Shareholder\"], \"date_of_birth\": null}, {\"name\": \"Maxwell Koenig\", \"full_name\": \"Koenig, Maxwell\", \"occupation\": [\"Shareholder\"], \"date_of_birth\": null}, {\"name\": \"Michelle Ang Li Ying\", \"full_name\": \"Ying, Michelle Ang Li\", \"occupation\": [\"Shareholder\"], \"date_of_birth\": null}, {\"name\": \"Moreno Bonaventura\", \"full_name\": \"Bonaventura, Moreno\", \"occupation\": [\"Shareholder\"], \"date_of_birth\": null}, {\"name\": \"Paladin Cyber Fund (Cayman Islands) L.P.\", \"full_name\": \"L.P., Paladin Cyber Fund (Cayman Islands)\", \"occupation\": [\"Shareholder\"], \"date_of_birth\": null}, {\"name\": \"Paladin Cyber Fund L.P.\", \"full_name\": \"L.P., Paladin Cyber Fund\", \"occupation\": [\"Shareholder\"], \"date_of_birth\": null}, {\"name\": \"Paladin European Cyber Fund Scsp-Sif\", \"full_name\": \"Scsp-Sif, Paladin European Cyber Fund\", \"occupation\": [\"Shareholder\"], \"date_of_birth\": null}, {\"name\": \"Paul Smith\", \"full_name\": \"Smith, Paul\", \"occupation\": [\"Shareholder\"], \"date_of_birth\": null}, {\"name\": \"Richard Brown\", \"full_name\": \"Brown, Richard\", \"occupation\": [\"Shareholder\"], \"date_of_birth\": null}, {\"name\": \"Robin Grant\", \"full_name\": \"Grant, Robin\", \"occupation\": [\"Shareholder\"], \"date_of_birth\": null}, {\"name\": \"Ross Phillips\", \"full_name\": \"Phillips, Ross\", \"occupation\": [\"Shareholder\"], \"date_of_birth\": null}, {\"name\": \"Sacha Lowenthal\", \"full_name\": \"Lowenthal, Sacha\", \"occupation\": [\"Shareholder\"], \"date_of_birth\": null}, {\"name\": \"Seimin Kuan\", \"full_name\": \"Kuan, Seimin\", \"occupation\": [\"Shareholder\"], \"date_of_birth\": null}, {\"name\": \"Shivani Rawal\", \"full_name\": \"Rawal, Shivani\", \"occupation\": [\"Shareholder\"], \"date_of_birth\": null}, {\"name\": \"Signalfire Affiliates Fund Il, L.P.\", \"full_name\": \"L.P., Signalfire Affiliates Fund Il,\", \"occupation\": [\"Shareholder\"], \"date_of_birth\": null}, {\"name\": \"Signalfire Fund L.P.\", \"full_name\": \"L.P., Signalfire Fund\", \"occupation\": [\"Shareholder\"], \"date_of_birth\": null}, {\"name\": \"Stylianos Tachtatzis\", \"full_name\": \"Tachtatzis, Stylianos\", \"occupation\": [\"Shareholder\"], \"date_of_birth\": null}, {\"name\": \"Tim Chapman\", \"full_name\": \"Chapman, Tim\", \"occupation\": [\"Shareholder\"], \"date_of_birth\": null}, {\"name\": \"Toby O'Sullivan\", \"full_name\": \"O'Sullivan, Toby\", \"occupation\": [\"Shareholder\"], \"date_of_birth\": null}, {\"name\": \"Wells Fargo Central Pacific Holdings, Inc\", \"full_name\": \"Inc, Wells Fargo Central Pacific Holdings,\", \"occupation\": [\"Shareholder\"], \"date_of_birth\": null}, {\"name\": \"Wndrco Holdings, Lcc\", \"full_name\": \"Lcc, Wndrco Holdings,\", \"occupation\": [\"Shareholder\"], \"date_of_birth\": null}, {\"name\": \"Yacob Kurimbokus\", \"full_name\": \"Kurimbokus, Yacob\", \"occupation\": [\"Shareholder\"], \"date_of_birth\": null}]}\n",
      "write data successful: source: companies_house status: completed company: Elliptic\n",
      "\n",
      "searching for {\"company_name_CB\": \"ISIZE LIMITED.\", \"founded_on_CB\": \"2016-09-22\", \"founders_CB\": [\"Sergio Grce\", \"Yiannis Andreopoulos\"]}\n"
     ]
    },
    {
     "name": "stderr",
     "output_type": "stream",
     "text": [
      "C:\\Users\\Djordje\\miniconda3\\lib\\site-packages\\scrapy\\selector\\unified.py:83: UserWarning: Selector got both text and root, root is being ignored.\n",
      "  super().__init__(text=text, type=st, root=root, **kwargs)\n"
     ]
    },
    {
     "name": "stdout",
     "output_type": "stream",
     "text": [
      "successful match by FOUNDER NAME and DATE {\"company_name_CB\": \"ISIZE LIMITED.\", \"company_name_CH\": \"ISIZE LIMITED\", \"founded_on_CB\": \"2016-09-22\", \"founded_on_CH\": \"2016-09-22\", \"founders_CB\": [\"Sergio Grce\", \"Yiannis Andreopoulos\"], \"officers_CH\": [\"Ioannis Andreopoulos\", \"Edward Clifton\", \"Srdjan Grce\", \"Simon King\", \"Marko Milos\", \"Charles Conn Iii\", \"Hugo Muriel Arriaran\"], \"url_CH\": \"https://find-and-update.company-information.service.gov.uk/company/10388803\"}\n",
      "FOUND and starting to crawl{\"company_name_CB\": \"ISIZE LIMITED.\", \"founded_on_CB\": \"2016-09-22\", \"founders_CB\": [\"Sergio Grce\", \"Yiannis Andreopoulos\"], \"url\": \"https://find-and-update.company-information.service.gov.uk/company/10388803\"}.\n"
     ]
    },
    {
     "name": "stderr",
     "output_type": "stream",
     "text": [
      "C:\\Users\\Djordje\\miniconda3\\lib\\site-packages\\scrapy\\utils\\request.py:232: ScrapyDeprecationWarning: '2.6' is a deprecated value for the 'REQUEST_FINGERPRINTER_IMPLEMENTATION' setting.\n",
      "\n",
      "It is also the default value. In other words, it is normal to get this warning if you have not defined a value for the 'REQUEST_FINGERPRINTER_IMPLEMENTATION' setting. This is so for backward compatibility reasons, but it will change in a future version of Scrapy.\n",
      "\n",
      "See the documentation of the 'REQUEST_FINGERPRINTER_IMPLEMENTATION' setting for information on how to handle this deprecation.\n",
      "  return cls(crawler)\n"
     ]
    },
    {
     "name": "stdout",
     "output_type": "stream",
     "text": [
      "parse_company_info company:iSIZE Technologies url: https://find-and-update.company-information.service.gov.uk/company/10388803\n",
      "parse_company_info completed 1 {\"company_name\": \"ISIZE LIMITED\", \"company_id\": \"10388803\", \"url\": \"https://find-and-update.company-information.service.gov.uk/company/10388803\", \"key\": \"company\", \"address\": \"9th Floor 107 Cheapside, London, United Kingdom, EC2V 6DN\", \"status\": \"Active\", \"type\": \"Private limited Company\", \"incorporated_on\": \"2016-09-22\", \"sics\": [\"59120 - Motion picture, video and television programme post-production activities\", \"62090 - Other information technology service activities\"]}\n",
      "parse_insolvency company:iSIZE Technologies url: https://find-and-update.company-information.service.gov.uk/company/10388803/insolvency\n",
      "parse_insolvency completed 2 {\"url\": \"https://find-and-update.company-information.service.gov.uk/company/10388803/insolvency\", \"items\": []}\n",
      "parse_officers company: iSIZE Technologies url: https://find-and-update.company-information.service.gov.uk/company/10388803/officers\n",
      "parse_officers completed 3 {\"url\": \"https://find-and-update.company-information.service.gov.uk/company/10388803/officers\", \"items\": [{\"name\": \"Andreopoulos, Ioannis\", \"appointments_url\": \"https://find-and-update.company-information.service.gov.uk/officers/7dK_qGQnZEYGIus3DO_O-QANpho/appointments\", \"address\": \"9th Floor, 107 Cheapside, London, United Kingdom, EC2V 6DN\", \"status\": \"Active\", \"role\": \"Director\", \"appointed_on\": \"2018-11-05\", \"resigned_on\": null, \"date_of_birth\": \"1977-01-01\", \"nationality\": \"British\", \"residence\": \"England\", \"occupation\": \"Chief Technical Officer\"}, {\"name\": \"Clifton, Edward\", \"appointments_url\": \"https://find-and-update.company-information.service.gov.uk/officers/xjirzm9boUZhyX_quiHEhWsLrl0/appointments\", \"address\": \"9th Floor, 107 Cheapside, London, United Kingdom, EC2V 6DN\", \"status\": \"Active\", \"role\": \"Director\", \"appointed_on\": \"2022-07-20\", \"resigned_on\": null, \"date_of_birth\": \"1971-01-01\", \"nationality\": \"British\", \"residence\": \"United Kingdom\", \"occupation\": \"Director\"}, {\"name\": \"Conn Iii, Charles Ronald\", \"appointments_url\": \"https://find-and-update.company-information.service.gov.uk/officers/_kCUD6uPdwLMYcg1ay2qstFJuFI/appointments\", \"address\": \"9th Floor, 107 Cheapside, London, United Kingdom, EC2V 6DN\", \"status\": null, \"role\": \"Director\", \"appointed_on\": \"2020-11-12\", \"resigned_on\": \"2022-06-29\", \"date_of_birth\": \"1961-08-01\", \"nationality\": \"American,Canadian\", \"residence\": \"England\", \"occupation\": \"Company Director\"}, {\"name\": \"Grce, Srdjan\", \"appointments_url\": \"https://find-and-update.company-information.service.gov.uk/officers/5jfbbnRTFU8OF_-nOcvN2wcMReo/appointments\", \"address\": \"9th Floor, 107 Cheapside, London, United Kingdom, EC2V 6DN\", \"status\": \"Active\", \"role\": \"Director\", \"appointed_on\": \"2016-09-22\", \"resigned_on\": null, \"date_of_birth\": \"1977-10-01\", \"nationality\": \"British\", \"residence\": \"United Kingdom\", \"occupation\": \"Founder & Ceo\"}, {\"name\": \"King, Simon Paul\", \"appointments_url\": \"https://find-and-update.company-information.service.gov.uk/officers/K1hjAdUc1lmw5-PCEBzC78AdUeQ/appointments\", \"address\": \"9th Floor, 107 Cheapside, London, United Kingdom, EC2V 6DN\", \"status\": \"Active\", \"role\": \"Director\", \"appointed_on\": \"2021-04-01\", \"resigned_on\": null, \"date_of_birth\": \"1984-05-01\", \"nationality\": \"British\", \"residence\": \"United Kingdom\", \"occupation\": \"Director\"}, {\"name\": \"Milos, Marko\", \"appointments_url\": \"https://find-and-update.company-information.service.gov.uk/officers/3oUbsQ1L6sfBFt4cR00eiL38o8M/appointments\", \"address\": \"9th Floor, 107 Cheapside, London, United Kingdom, EC2V 6DN\", \"status\": \"Active\", \"role\": \"Director\", \"appointed_on\": \"2017-03-27\", \"resigned_on\": null, \"date_of_birth\": \"1978-04-01\", \"nationality\": \"English\", \"residence\": \"England\", \"occupation\": \"Banker\"}, {\"name\": \"Muriel Arriaran, Hugo Marcelo\", \"appointments_url\": \"https://find-and-update.company-information.service.gov.uk/officers/GdP1ZTjt4-Za4T1MsRTb6dYSlFY/appointments\", \"address\": \"3 Falconet Court, 123 Wapping High Street, London, United Kingdom, E1W 3NX\", \"status\": null, \"role\": \"Director\", \"appointed_on\": \"2017-02-03\", \"resigned_on\": \"2018-11-05\", \"date_of_birth\": \"1983-10-01\", \"nationality\": \"Swiss\", \"residence\": \"Switzerland\", \"occupation\": \"Computer Scientist\"}, {\"name\": \"Ohs Secretaries Limited\", \"appointments_url\": \"https://find-and-update.company-information.service.gov.uk/officers/8DTKf650Reo5ubQ17kwO3hBSxt4/appointments\", \"address\": \"9th Floor, 107 Cheapside, London, England, England, EC2V 6DN\", \"status\": \"Active\", \"role\": \"Secretary\", \"appointed_on\": \"2021-01-31\", \"resigned_on\": null, \"date_of_birth\": null, \"nationality\": null, \"residence\": null, \"occupation\": null}]}\n"
     ]
    },
    {
     "name": "stderr",
     "output_type": "stream",
     "text": [
      "C:\\Users\\Djordje\\miniconda3\\lib\\site-packages\\scrapy\\selector\\unified.py:83: UserWarning: Selector got both text and root, root is being ignored.\n",
      "  super().__init__(text=text, type=st, root=root, **kwargs)\n"
     ]
    },
    {
     "name": "stdout",
     "output_type": "stream",
     "text": [
      "parse_filing company: iSIZE Technologies url: https://find-and-update.company-information.service.gov.uk/company/10388803/filing-history\n",
      "parse_confirmation_statement: 2022-09-21 https://find-and-update.company-information.service.gov.uk/company/10388803/filing-history/MzM1MjUxNTYzNmFkaXF6a2N4/document?format=pdf&download=0\n"
     ]
    },
    {
     "name": "stderr",
     "output_type": "stream",
     "text": [
      "C:\\Users\\Djordje\\miniconda3\\lib\\site-packages\\scrapy\\selector\\unified.py:83: UserWarning: Selector got both text and root, root is being ignored.\n",
      "  super().__init__(text=text, type=st, root=root, **kwargs)\n"
     ]
    },
    {
     "name": "stdout",
     "output_type": "stream",
     "text": [
      "parse_confirmation_statement completed: 2022-09-21 https://find-and-update.company-information.service.gov.uk/company/10388803/filing-history/MzM1MjUxNTYzNmFkaXF6a2N4/document?format=pdf&download=0\n",
      "parse_confirmation_statement: 2021-09-21 https://find-and-update.company-information.service.gov.uk/company/10388803/filing-history/MzMxNDg2MjY0M2FkaXF6a2N4/document?format=pdf&download=0\n",
      "parse_confirmation_statement completed: 2021-09-21 https://find-and-update.company-information.service.gov.uk/company/10388803/filing-history/MzMxNDg2MjY0M2FkaXF6a2N4/document?format=pdf&download=0\n",
      "parse_appointments company: iSIZE Technologies officer: Hugo Marcelo Muriel Arriaran [0/8] url: https://find-and-update.company-information.service.gov.uk/officers/GdP1ZTjt4-Za4T1MsRTb6dYSlFY/appointments\n",
      "parse_appointments company finished: iSIZE Technologies [1/8] url: https://find-and-update.company-information.service.gov.uk/officers/GdP1ZTjt4-Za4T1MsRTb6dYSlFY/appointments\n",
      "parse_appointments company: iSIZE Technologies officer: Ioannis Andreopoulos [1/8] url: https://find-and-update.company-information.service.gov.uk/officers/7dK_qGQnZEYGIus3DO_O-QANpho/appointments\n",
      "parse_appointments company finished: iSIZE Technologies [2/8] url: https://find-and-update.company-information.service.gov.uk/officers/7dK_qGQnZEYGIus3DO_O-QANpho/appointments\n",
      "parse_appointments company: iSIZE Technologies officer: Edward Clifton [2/8] url: https://find-and-update.company-information.service.gov.uk/officers/xjirzm9boUZhyX_quiHEhWsLrl0/appointments\n",
      "parse_appointments company finished: iSIZE Technologies [3/8] url: https://find-and-update.company-information.service.gov.uk/officers/xjirzm9boUZhyX_quiHEhWsLrl0/appointments\n"
     ]
    },
    {
     "name": "stderr",
     "output_type": "stream",
     "text": [
      "C:\\Users\\Djordje\\miniconda3\\lib\\site-packages\\scrapy\\selector\\unified.py:83: UserWarning: Selector got both text and root, root is being ignored.\n",
      "  super().__init__(text=text, type=st, root=root, **kwargs)\n"
     ]
    },
    {
     "name": "stdout",
     "output_type": "stream",
     "text": [
      "parse_appointments company: iSIZE Technologies officer: Ohs Secretaries Limited [3/8] url: https://find-and-update.company-information.service.gov.uk/officers/8DTKf650Reo5ubQ17kwO3hBSxt4/appointments\n",
      "parse_appointments company finished: iSIZE Technologies [4/8] url: https://find-and-update.company-information.service.gov.uk/officers/8DTKf650Reo5ubQ17kwO3hBSxt4/appointments\n",
      "parse_appointments company: iSIZE Technologies officer: Srdjan Grce [4/8] url: https://find-and-update.company-information.service.gov.uk/officers/5jfbbnRTFU8OF_-nOcvN2wcMReo/appointments\n",
      "parse_appointments company finished: iSIZE Technologies [5/8] url: https://find-and-update.company-information.service.gov.uk/officers/5jfbbnRTFU8OF_-nOcvN2wcMReo/appointments\n",
      "parse_appointments company: iSIZE Technologies officer: Charles Ronald Conn Iii [5/8] url: https://find-and-update.company-information.service.gov.uk/officers/_kCUD6uPdwLMYcg1ay2qstFJuFI/appointments\n",
      "parse_appointments company finished: iSIZE Technologies [6/8] url: https://find-and-update.company-information.service.gov.uk/officers/_kCUD6uPdwLMYcg1ay2qstFJuFI/appointments\n",
      "parse_appointments company: iSIZE Technologies officer: Marko Milos [6/8] url: https://find-and-update.company-information.service.gov.uk/officers/3oUbsQ1L6sfBFt4cR00eiL38o8M/appointments\n",
      "parse_appointments company finished: iSIZE Technologies [7/8] url: https://find-and-update.company-information.service.gov.uk/officers/3oUbsQ1L6sfBFt4cR00eiL38o8M/appointments\n",
      "parse_appointments company: iSIZE Technologies officer: Simon Paul King [7/8] url: https://find-and-update.company-information.service.gov.uk/officers/K1hjAdUc1lmw5-PCEBzC78AdUeQ/appointments\n",
      "parse_appointments company finished: iSIZE Technologies [8/8] url: https://find-and-update.company-information.service.gov.uk/officers/K1hjAdUc1lmw5-PCEBzC78AdUeQ/appointments\n",
      "parse_appointments completed 4\n",
      "parse_filing company: iSIZE Technologies url: https://find-and-update.company-information.service.gov.uk/company/10388803/filing-history?page=2\n",
      "parse_confirmation_statement: 2020-09-21 https://find-and-update.company-information.service.gov.uk/company/10388803/filing-history/MzI4NDQ4MTEyOWFkaXF6a2N4/document?format=pdf&download=0\n",
      "parse_confirmation_statement completed: 2020-09-21 https://find-and-update.company-information.service.gov.uk/company/10388803/filing-history/MzI4NDQ4MTEyOWFkaXF6a2N4/document?format=pdf&download=0\n",
      "parse_confirmation_statement: 2019-09-21 https://find-and-update.company-information.service.gov.uk/company/10388803/filing-history/MzI0NjE4MjIxN2FkaXF6a2N4/document?format=pdf&download=0\n",
      "parse_confirmation_statement completed: 2019-09-21 https://find-and-update.company-information.service.gov.uk/company/10388803/filing-history/MzI0NjE4MjIxN2FkaXF6a2N4/document?format=pdf&download=0\n",
      "parse_filing company: iSIZE Technologies url: https://find-and-update.company-information.service.gov.uk/company/10388803/filing-history?page=3\n",
      "parse_confirmation_statement: 2018-09-21 https://find-and-update.company-information.service.gov.uk/company/10388803/filing-history/MzIxNzA5NjMxNGFkaXF6a2N4/document?format=pdf&download=0\n"
     ]
    },
    {
     "name": "stderr",
     "output_type": "stream",
     "text": [
      "C:\\Users\\Djordje\\miniconda3\\lib\\site-packages\\scrapy\\selector\\unified.py:83: UserWarning: Selector got both text and root, root is being ignored.\n",
      "  super().__init__(text=text, type=st, root=root, **kwargs)\n"
     ]
    },
    {
     "name": "stdout",
     "output_type": "stream",
     "text": [
      "parse_confirmation_statement completed: 2018-09-21 https://find-and-update.company-information.service.gov.uk/company/10388803/filing-history/MzIxNzA5NjMxNGFkaXF6a2N4/document?format=pdf&download=0\n",
      "parse_confirmation_statement: 2017-09-21 https://find-and-update.company-information.service.gov.uk/company/10388803/filing-history/MzE4NjYwMjc1NGFkaXF6a2N4/document?format=pdf&download=0\n",
      "parse_confirmation_statement completed: 2017-09-21 https://find-and-update.company-information.service.gov.uk/company/10388803/filing-history/MzE4NjYwMjc1NGFkaXF6a2N4/document?format=pdf&download=0\n",
      "parse_filing company: iSIZE Technologies url: https://find-and-update.company-information.service.gov.uk/company/10388803/filing-history?page=4\n",
      "parse_incorporation: 2016-09-22 https://find-and-update.company-information.service.gov.uk/company/10388803/filing-history/MzE1Nzc4NTQ1N2FkaXF6a2N4/document?format=pdf&download=0\n"
     ]
    },
    {
     "name": "stderr",
     "output_type": "stream",
     "text": [
      "C:\\Users\\Djordje\\miniconda3\\lib\\site-packages\\scrapy\\selector\\unified.py:83: UserWarning: Selector got both text and root, root is being ignored.\n",
      "  super().__init__(text=text, type=st, root=root, **kwargs)\n"
     ]
    },
    {
     "name": "stdout",
     "output_type": "stream",
     "text": [
      "parse_filing company: iSIZE Technologies url: https://find-and-update.company-information.service.gov.uk/company/10388803/filing-history?page=5\n",
      "parse_filing completed 5 {\"url\": \"https://find-and-update.company-information.service.gov.uk/company/10388803/filing-history\", \"items\": []}\n",
      "parse_finished\n",
      "get_persons {\"company_id\": \"10388803\", \"company_name\": \"ISIZE LIMITED\", \"items\": [{\"name\": \"Charles Conn Iii\", \"full_name\": \"Conn Iii, Charles Ronald\", \"occupation\": [\"Director\", \"Shareholder\"], \"date_of_birth\": \"1961-08-01\"}, {\"name\": \"Edward Clifton\", \"full_name\": \"Clifton, Edward\", \"occupation\": [\"Director\"], \"date_of_birth\": \"1971-01-01\"}, {\"name\": \"Hugo Muriel Arriaran\", \"full_name\": \"Muriel Arriaran, Hugo Marcelo\", \"occupation\": [\"Director\", \"Shareholder\"], \"date_of_birth\": \"1983-10-01\"}, {\"name\": \"Ioannis Andreopoulos\", \"full_name\": \"Andreopoulos, Ioannis\", \"occupation\": [\"Director\", \"Shareholder\"], \"date_of_birth\": \"1977-01-01\"}, {\"name\": \"Marko Milos\", \"full_name\": \"Milos, Marko\", \"occupation\": [\"Director\", \"Shareholder\"], \"date_of_birth\": \"1978-04-01\"}, {\"name\": \"Simon King\", \"full_name\": \"King, Simon Paul\", \"occupation\": [\"Director\"], \"date_of_birth\": \"1984-05-01\"}, {\"name\": \"Srdjan Grce\", \"full_name\": \"Grce, Srdjan\", \"occupation\": [\"Director\", \"Shareholder\", \"Founder\"], \"date_of_birth\": \"1977-10-01\"}, {\"name\": \"A Management As\", \"full_name\": \"As, A Management\", \"occupation\": [\"Shareholder\"], \"date_of_birth\": null}, {\"name\": \"Adriana Belonic\", \"full_name\": \"Belonic, Adriana\", \"occupation\": [\"Shareholder\"], \"date_of_birth\": null}, {\"name\": \"Aleksandra Belonic\", \"full_name\": \"Belonic, Aleksandra\", \"occupation\": [\"Shareholder\"], \"date_of_birth\": null}, {\"name\": \"Alexander Kolb\", \"full_name\": \"Kolb, Alexander\", \"occupation\": [\"Shareholder\"], \"date_of_birth\": null}, {\"name\": \"Andrea Bucca\", \"full_name\": \"Bucca, Andrea\", \"occupation\": [\"Shareholder\"], \"date_of_birth\": null}, {\"name\": \"Andrew Loftus\", \"full_name\": \"Loftus, Andrew\", \"occupation\": [\"Shareholder\"], \"date_of_birth\": null}, {\"name\": \"Christopher John Mairs\", \"full_name\": \"Mairs, Christopher John\", \"occupation\": [\"Shareholder\"], \"date_of_birth\": null}, {\"name\": \"Christopher Wade\", \"full_name\": \"Wade, Christopher\", \"occupation\": [\"Shareholder\"], \"date_of_birth\": null}, {\"name\": \"Colin Woodford\", \"full_name\": \"Woodford, Colin\", \"occupation\": [\"Shareholder\"], \"date_of_birth\": null}, {\"name\": \"Dejan Miladinovic\", \"full_name\": \"Miladinovic, Dejan\", \"occupation\": [\"Shareholder\"], \"date_of_birth\": null}, {\"name\": \"Dhruv Pandya\", \"full_name\": \"Pandya, Dhruv\", \"occupation\": [\"Shareholder\"], \"date_of_birth\": null}, {\"name\": \"Djordje Djokovic\", \"full_name\": \"Djokovic, Djordje\", \"occupation\": [\"Shareholder\", \"Founder\"], \"date_of_birth\": null}, {\"name\": \"Dusan Petrovic\", \"full_name\": \"Petrovic, Dusan\", \"occupation\": [\"Shareholder\"], \"date_of_birth\": null}, {\"name\": \"Gyldenlakk As\", \"full_name\": \"As, Gyldenlakk\", \"occupation\": [\"Shareholder\"], \"date_of_birth\": null}, {\"name\": \"Hasan Alakan\", \"full_name\": \"Alakan, Hasan\", \"occupation\": [\"Shareholder\"], \"date_of_birth\": null}, {\"name\": \"Maria Silvestris\", \"full_name\": \"Silvestris, Maria\", \"occupation\": [\"Shareholder\"], \"date_of_birth\": null}, {\"name\": \"Meredith Bennett\", \"full_name\": \"Bennett, Meredith\", \"occupation\": [\"Shareholder\"], \"date_of_birth\": null}, {\"name\": \"Ohana As\", \"full_name\": \"As, Ohana\", \"occupation\": [\"Shareholder\"], \"date_of_birth\": null}, {\"name\": \"Paolo Sideri\", \"full_name\": \"Sideri, Paolo\", \"occupation\": [\"Shareholder\"], \"date_of_birth\": null}, {\"name\": \"Patrick Pichette\", \"full_name\": \"Pichette, Patrick\", \"occupation\": [\"Shareholder\"], \"date_of_birth\": null}, {\"name\": \"Paul Massara\", \"full_name\": \"Massara, Paul\", \"occupation\": [\"Shareholder\"], \"date_of_birth\": null}, {\"name\": \"Radka Invest As\", \"full_name\": \"As, Radka Invest\", \"occupation\": [\"Shareholder\"], \"date_of_birth\": null}, {\"name\": \"Robert Sansom\", \"full_name\": \"Sansom, Robert\", \"occupation\": [\"Shareholder\"], \"date_of_birth\": null}, {\"name\": \"Sania Jevtic\", \"full_name\": \"Jevtic, Sania\", \"occupation\": [\"Shareholder\"], \"date_of_birth\": null}, {\"name\": \"Steven Marshall\", \"full_name\": \"Marshall, Steven\", \"occupation\": [\"Shareholder\"], \"date_of_birth\": null}, {\"name\": \"Td Veen As\", \"full_name\": \"As, Td Veen\", \"occupation\": [\"Shareholder\"], \"date_of_birth\": null}, {\"name\": \"Tina Whitehouse\", \"full_name\": \"Whitehouse, Tina\", \"occupation\": [\"Shareholder\"], \"date_of_birth\": null}, {\"name\": \"Vojislav Djuric\", \"full_name\": \"Djuric, Vojislav\", \"occupation\": [\"Shareholder\"], \"date_of_birth\": null}, {\"name\": \"William Tunstall-Pedoe\", \"full_name\": \"Tunstall-Pedoe, William\", \"occupation\": [\"Shareholder\"], \"date_of_birth\": null}, {\"name\": \"Hugo Marcelo Muriel\", \"full_name\": \"Muriel, Hugo Marcelo\", \"occupation\": [\"Founder\"], \"date_of_birth\": null}]}\n",
      "write data successful: source: companies_house status: completed company: iSIZE Technologies\n"
     ]
    },
    {
     "name": "stderr",
     "output_type": "stream",
     "text": [
      "C:\\Users\\Djordje\\miniconda3\\lib\\site-packages\\scrapy\\selector\\unified.py:83: UserWarning: Selector got both text and root, root is being ignored.\n",
      "  super().__init__(text=text, type=st, root=root, **kwargs)\n"
     ]
    }
   ],
   "source": [
    "# companies house bot will run in force mode and overwrite data table as well as weite for linkedin data into pending\n",
    "run_companies_house_bot(uuids=uuids, force=True)"
   ]
  },
  {
   "cell_type": "markdown",
   "id": "79b7f7da",
   "metadata": {},
   "source": [
    "### run linkedin bot"
   ]
  },
  {
   "cell_type": "code",
   "execution_count": null,
   "id": "673b43d3",
   "metadata": {},
   "outputs": [],
   "source": [
    "run_linkedin_bot(uuids=uuids, force=True)"
   ]
  },
  {
   "cell_type": "markdown",
   "id": "fa614b81",
   "metadata": {},
   "source": [
    "### get differences between crunchbase and companies_house data"
   ]
  },
  {
   "cell_type": "code",
   "execution_count": 3,
   "id": "91adfaf2",
   "metadata": {
    "scrolled": true
   },
   "outputs": [
    {
     "data": {
      "text/html": [
       "<div>\n",
       "<style scoped>\n",
       "    .dataframe tbody tr th:only-of-type {\n",
       "        vertical-align: middle;\n",
       "    }\n",
       "\n",
       "    .dataframe tbody tr th {\n",
       "        vertical-align: top;\n",
       "    }\n",
       "\n",
       "    .dataframe thead th {\n",
       "        text-align: right;\n",
       "    }\n",
       "</style>\n",
       "<table border=\"1\" class=\"dataframe\">\n",
       "  <thead>\n",
       "    <tr style=\"text-align: right;\">\n",
       "      <th></th>\n",
       "      <th>uuid</th>\n",
       "      <th>name</th>\n",
       "      <th>source</th>\n",
       "      <th>category_groups_list</th>\n",
       "    </tr>\n",
       "  </thead>\n",
       "  <tbody>\n",
       "    <tr>\n",
       "      <th>0</th>\n",
       "      <td>0873546f-63ae-448e-aa1a-8506883736e9</td>\n",
       "      <td>AdamEve&amp;Apple</td>\n",
       "      <td>crunchbase</td>\n",
       "      <td>[Advertising, Artificial Intelligence, Data an...</td>\n",
       "    </tr>\n",
       "    <tr>\n",
       "      <th>1</th>\n",
       "      <td>0f26fcc3-dd5d-439e-9f30-6c6a7301379a</td>\n",
       "      <td>Agile Boards</td>\n",
       "      <td>crunchbase</td>\n",
       "      <td>[Artificial Intelligence, Data and Analytics, ...</td>\n",
       "    </tr>\n",
       "    <tr>\n",
       "      <th>2</th>\n",
       "      <td>1c5b6e05-e3ec-4208-9cf6-e708ce554c3f</td>\n",
       "      <td>Agile Automations</td>\n",
       "      <td>crunchbase</td>\n",
       "      <td>[Artificial Intelligence, Data and Analytics, ...</td>\n",
       "    </tr>\n",
       "    <tr>\n",
       "      <th>3</th>\n",
       "      <td>254cf148-6b4a-4186-8430-4d497e069d66</td>\n",
       "      <td>Affine</td>\n",
       "      <td>crunchbase</td>\n",
       "      <td>[Artificial Intelligence, Data and Analytics, ...</td>\n",
       "    </tr>\n",
       "    <tr>\n",
       "      <th>4</th>\n",
       "      <td>2a8b92f7-39e2-4b12-8f27-85d0b7a45cb9</td>\n",
       "      <td>Adarga</td>\n",
       "      <td>crunchbase</td>\n",
       "      <td>[Artificial Intelligence, Data and Analytics, ...</td>\n",
       "    </tr>\n",
       "    <tr>\n",
       "      <th>5</th>\n",
       "      <td>300b75bc-2d9b-4adb-be73-e7a1967a35f7</td>\n",
       "      <td>Acronotics</td>\n",
       "      <td>crunchbase</td>\n",
       "      <td>[Artificial Intelligence, Data and Analytics, ...</td>\n",
       "    </tr>\n",
       "    <tr>\n",
       "      <th>6</th>\n",
       "      <td>3313c152-4796-5b38-db11-3ed56c1cf592</td>\n",
       "      <td>Adthena</td>\n",
       "      <td>crunchbase</td>\n",
       "      <td>[Artificial Intelligence, Data and Analytics, ...</td>\n",
       "    </tr>\n",
       "    <tr>\n",
       "      <th>7</th>\n",
       "      <td>5a67df18-bc90-417c-a605-d309a902f9af</td>\n",
       "      <td>Adverttu</td>\n",
       "      <td>crunchbase</td>\n",
       "      <td>[Advertising, Artificial Intelligence, Data an...</td>\n",
       "    </tr>\n",
       "    <tr>\n",
       "      <th>8</th>\n",
       "      <td>658dad77-fb5b-406e-8326-5fb0016eacf0</td>\n",
       "      <td>AI-Health</td>\n",
       "      <td>crunchbase</td>\n",
       "      <td>[Apps, Artificial Intelligence, Data and Analy...</td>\n",
       "    </tr>\n",
       "    <tr>\n",
       "      <th>9</th>\n",
       "      <td>6722fb72-f597-45c1-9fbb-c724efda577f</td>\n",
       "      <td>AI Community Job Board</td>\n",
       "      <td>crunchbase</td>\n",
       "      <td>[Administrative Services, Artificial Intellige...</td>\n",
       "    </tr>\n",
       "    <tr>\n",
       "      <th>10</th>\n",
       "      <td>6ed4a7b8-deb0-4395-8f6a-85029f8ad8f3</td>\n",
       "      <td>Additive Flow</td>\n",
       "      <td>crunchbase</td>\n",
       "      <td>[Artificial Intelligence, Data and Analytics, ...</td>\n",
       "    </tr>\n",
       "    <tr>\n",
       "      <th>11</th>\n",
       "      <td>83cfe631-1962-4e0c-9401-8e023d78dd3a</td>\n",
       "      <td>Adla</td>\n",
       "      <td>crunchbase</td>\n",
       "      <td>[Artificial Intelligence, Clothing and Apparel...</td>\n",
       "    </tr>\n",
       "    <tr>\n",
       "      <th>12</th>\n",
       "      <td>85cb9e80-5309-63c6-9585-0ca9d0f84e78</td>\n",
       "      <td>Ai Build</td>\n",
       "      <td>crunchbase</td>\n",
       "      <td>[Artificial Intelligence, Data and Analytics, ...</td>\n",
       "    </tr>\n",
       "    <tr>\n",
       "      <th>13</th>\n",
       "      <td>8ab1efd6-018e-581f-0b9b-d0b9fbb16bbe</td>\n",
       "      <td>Accelerated Dynamics</td>\n",
       "      <td>crunchbase</td>\n",
       "      <td>[Artificial Intelligence, Data and Analytics, ...</td>\n",
       "    </tr>\n",
       "    <tr>\n",
       "      <th>14</th>\n",
       "      <td>a12b0667-bb0c-4bf5-a6af-bb7469959f3c</td>\n",
       "      <td>​Brainminer Ltd</td>\n",
       "      <td>crunchbase</td>\n",
       "      <td>[Artificial Intelligence, Data and Analytics, ...</td>\n",
       "    </tr>\n",
       "    <tr>\n",
       "      <th>15</th>\n",
       "      <td>ab504bfb-daac-4a37-9209-e04858a5f935</td>\n",
       "      <td>AI-XPRT</td>\n",
       "      <td>crunchbase</td>\n",
       "      <td>[Artificial Intelligence, Data and Analytics, ...</td>\n",
       "    </tr>\n",
       "    <tr>\n",
       "      <th>16</th>\n",
       "      <td>ad1a95a7-086b-4439-a6f8-73cbb026ff90</td>\n",
       "      <td>9omi.com</td>\n",
       "      <td>crunchbase</td>\n",
       "      <td>[Artificial Intelligence, Commerce and Shoppin...</td>\n",
       "    </tr>\n",
       "    <tr>\n",
       "      <th>17</th>\n",
       "      <td>c49e6eda-5cc5-4cd7-ae21-430d43f8d615</td>\n",
       "      <td>AdviseInc</td>\n",
       "      <td>crunchbase</td>\n",
       "      <td>[Artificial Intelligence, Data and Analytics, ...</td>\n",
       "    </tr>\n",
       "    <tr>\n",
       "      <th>18</th>\n",
       "      <td>cc6cacb7-40ec-4312-a807-a4fb16771900</td>\n",
       "      <td>AI Assisted Learning</td>\n",
       "      <td>crunchbase</td>\n",
       "      <td>[Artificial Intelligence, Data and Analytics, ...</td>\n",
       "    </tr>\n",
       "    <tr>\n",
       "      <th>19</th>\n",
       "      <td>ccf841f1-e5dc-4979-baf8-d1914c1bca96</td>\n",
       "      <td>Account Management Online</td>\n",
       "      <td>crunchbase</td>\n",
       "      <td>[Artificial Intelligence, Commerce and Shoppin...</td>\n",
       "    </tr>\n",
       "    <tr>\n",
       "      <th>20</th>\n",
       "      <td>ccfe35b1-876c-d289-f847-8968a171e49d</td>\n",
       "      <td>Advanced Security Consulting Limited (JustASC)</td>\n",
       "      <td>crunchbase</td>\n",
       "      <td>[Artificial Intelligence, Data and Analytics, ...</td>\n",
       "    </tr>\n",
       "    <tr>\n",
       "      <th>21</th>\n",
       "      <td>d036d4c8-03cf-4760-b364-c59f6caf9a64</td>\n",
       "      <td>Advancing Analytics</td>\n",
       "      <td>crunchbase</td>\n",
       "      <td>[Artificial Intelligence, Data and Analytics, ...</td>\n",
       "    </tr>\n",
       "    <tr>\n",
       "      <th>22</th>\n",
       "      <td>d3ab5e2d-96a6-4ce3-8a2f-8858fbc1eeff</td>\n",
       "      <td>ADTYPE</td>\n",
       "      <td>crunchbase</td>\n",
       "      <td>[Advertising, Artificial Intelligence, Data an...</td>\n",
       "    </tr>\n",
       "    <tr>\n",
       "      <th>23</th>\n",
       "      <td>d7414024-2f2e-95bd-6058-40030d5082d9</td>\n",
       "      <td>action.ai</td>\n",
       "      <td>crunchbase</td>\n",
       "      <td>[Artificial Intelligence, Data and Analytics, ...</td>\n",
       "    </tr>\n",
       "    <tr>\n",
       "      <th>24</th>\n",
       "      <td>db087811-7b34-49a5-98eb-60e416f8856b</td>\n",
       "      <td>Adsebook</td>\n",
       "      <td>crunchbase</td>\n",
       "      <td>[Advertising, Artificial Intelligence, Content...</td>\n",
       "    </tr>\n",
       "    <tr>\n",
       "      <th>25</th>\n",
       "      <td>e2ff7e75-609e-43b4-bad5-205f0fb65f26</td>\n",
       "      <td>AeroCloud</td>\n",
       "      <td>crunchbase</td>\n",
       "      <td>[Artificial Intelligence, Data and Analytics, ...</td>\n",
       "    </tr>\n",
       "    <tr>\n",
       "      <th>26</th>\n",
       "      <td>e67dd2fc-5420-c363-7626-993aed00dd89</td>\n",
       "      <td>Affective Systems Plc</td>\n",
       "      <td>crunchbase</td>\n",
       "      <td>[Artificial Intelligence, Data and Analytics, ...</td>\n",
       "    </tr>\n",
       "    <tr>\n",
       "      <th>27</th>\n",
       "      <td>ed977a59-fc00-4d87-8d7b-210ea421059e</td>\n",
       "      <td>AI Business</td>\n",
       "      <td>crunchbase</td>\n",
       "      <td>[Artificial Intelligence, Data and Analytics, ...</td>\n",
       "    </tr>\n",
       "    <tr>\n",
       "      <th>28</th>\n",
       "      <td>f006b3b0-5f16-8fe7-c2ce-c0e915d5dd52</td>\n",
       "      <td>Academy of Robotics</td>\n",
       "      <td>crunchbase</td>\n",
       "      <td>[Artificial Intelligence, Data and Analytics, ...</td>\n",
       "    </tr>\n",
       "    <tr>\n",
       "      <th>29</th>\n",
       "      <td>f0cad822-1f42-0a36-66d8-101c0112828d</td>\n",
       "      <td>AdviceGames</td>\n",
       "      <td>crunchbase</td>\n",
       "      <td>[Artificial Intelligence, Data and Analytics, ...</td>\n",
       "    </tr>\n",
       "    <tr>\n",
       "      <th>30</th>\n",
       "      <td>f64fd65d-a931-4de6-9a94-a632b29012ba</td>\n",
       "      <td>AI-Adam</td>\n",
       "      <td>crunchbase</td>\n",
       "      <td>[Administrative Services, Artificial Intellige...</td>\n",
       "    </tr>\n",
       "    <tr>\n",
       "      <th>31</th>\n",
       "      <td>fa40aa33-45ce-c024-239f-02ed5da988c3</td>\n",
       "      <td>1oT</td>\n",
       "      <td>crunchbase</td>\n",
       "      <td>[Artificial Intelligence, Data and Analytics, ...</td>\n",
       "    </tr>\n",
       "    <tr>\n",
       "      <th>32</th>\n",
       "      <td>fc93a7df-af1e-421f-b6f3-83726b538340</td>\n",
       "      <td>AI Business</td>\n",
       "      <td>crunchbase</td>\n",
       "      <td>[Artificial Intelligence, Content and Publishi...</td>\n",
       "    </tr>\n",
       "  </tbody>\n",
       "</table>\n",
       "</div>"
      ],
      "text/plain": [
       "                                    uuid   \n",
       "0   0873546f-63ae-448e-aa1a-8506883736e9  \\\n",
       "1   0f26fcc3-dd5d-439e-9f30-6c6a7301379a   \n",
       "2   1c5b6e05-e3ec-4208-9cf6-e708ce554c3f   \n",
       "3   254cf148-6b4a-4186-8430-4d497e069d66   \n",
       "4   2a8b92f7-39e2-4b12-8f27-85d0b7a45cb9   \n",
       "5   300b75bc-2d9b-4adb-be73-e7a1967a35f7   \n",
       "6   3313c152-4796-5b38-db11-3ed56c1cf592   \n",
       "7   5a67df18-bc90-417c-a605-d309a902f9af   \n",
       "8   658dad77-fb5b-406e-8326-5fb0016eacf0   \n",
       "9   6722fb72-f597-45c1-9fbb-c724efda577f   \n",
       "10  6ed4a7b8-deb0-4395-8f6a-85029f8ad8f3   \n",
       "11  83cfe631-1962-4e0c-9401-8e023d78dd3a   \n",
       "12  85cb9e80-5309-63c6-9585-0ca9d0f84e78   \n",
       "13  8ab1efd6-018e-581f-0b9b-d0b9fbb16bbe   \n",
       "14  a12b0667-bb0c-4bf5-a6af-bb7469959f3c   \n",
       "15  ab504bfb-daac-4a37-9209-e04858a5f935   \n",
       "16  ad1a95a7-086b-4439-a6f8-73cbb026ff90   \n",
       "17  c49e6eda-5cc5-4cd7-ae21-430d43f8d615   \n",
       "18  cc6cacb7-40ec-4312-a807-a4fb16771900   \n",
       "19  ccf841f1-e5dc-4979-baf8-d1914c1bca96   \n",
       "20  ccfe35b1-876c-d289-f847-8968a171e49d   \n",
       "21  d036d4c8-03cf-4760-b364-c59f6caf9a64   \n",
       "22  d3ab5e2d-96a6-4ce3-8a2f-8858fbc1eeff   \n",
       "23  d7414024-2f2e-95bd-6058-40030d5082d9   \n",
       "24  db087811-7b34-49a5-98eb-60e416f8856b   \n",
       "25  e2ff7e75-609e-43b4-bad5-205f0fb65f26   \n",
       "26  e67dd2fc-5420-c363-7626-993aed00dd89   \n",
       "27  ed977a59-fc00-4d87-8d7b-210ea421059e   \n",
       "28  f006b3b0-5f16-8fe7-c2ce-c0e915d5dd52   \n",
       "29  f0cad822-1f42-0a36-66d8-101c0112828d   \n",
       "30  f64fd65d-a931-4de6-9a94-a632b29012ba   \n",
       "31  fa40aa33-45ce-c024-239f-02ed5da988c3   \n",
       "32  fc93a7df-af1e-421f-b6f3-83726b538340   \n",
       "\n",
       "                                              name      source   \n",
       "0                                    AdamEve&Apple  crunchbase  \\\n",
       "1                                     Agile Boards  crunchbase   \n",
       "2                                Agile Automations  crunchbase   \n",
       "3                                           Affine  crunchbase   \n",
       "4                                           Adarga  crunchbase   \n",
       "5                                       Acronotics  crunchbase   \n",
       "6                                          Adthena  crunchbase   \n",
       "7                                         Adverttu  crunchbase   \n",
       "8                                        AI-Health  crunchbase   \n",
       "9                           AI Community Job Board  crunchbase   \n",
       "10                                   Additive Flow  crunchbase   \n",
       "11                                            Adla  crunchbase   \n",
       "12                                        Ai Build  crunchbase   \n",
       "13                            Accelerated Dynamics  crunchbase   \n",
       "14                                 ​Brainminer Ltd  crunchbase   \n",
       "15                                         AI-XPRT  crunchbase   \n",
       "16                                        9omi.com  crunchbase   \n",
       "17                                       AdviseInc  crunchbase   \n",
       "18                            AI Assisted Learning  crunchbase   \n",
       "19                       Account Management Online  crunchbase   \n",
       "20  Advanced Security Consulting Limited (JustASC)  crunchbase   \n",
       "21                             Advancing Analytics  crunchbase   \n",
       "22                                          ADTYPE  crunchbase   \n",
       "23                                       action.ai  crunchbase   \n",
       "24                                        Adsebook  crunchbase   \n",
       "25                                       AeroCloud  crunchbase   \n",
       "26                           Affective Systems Plc  crunchbase   \n",
       "27                                     AI Business  crunchbase   \n",
       "28                             Academy of Robotics  crunchbase   \n",
       "29                                     AdviceGames  crunchbase   \n",
       "30                                         AI-Adam  crunchbase   \n",
       "31                                             1oT  crunchbase   \n",
       "32                                     AI Business  crunchbase   \n",
       "\n",
       "                                 category_groups_list  \n",
       "0   [Advertising, Artificial Intelligence, Data an...  \n",
       "1   [Artificial Intelligence, Data and Analytics, ...  \n",
       "2   [Artificial Intelligence, Data and Analytics, ...  \n",
       "3   [Artificial Intelligence, Data and Analytics, ...  \n",
       "4   [Artificial Intelligence, Data and Analytics, ...  \n",
       "5   [Artificial Intelligence, Data and Analytics, ...  \n",
       "6   [Artificial Intelligence, Data and Analytics, ...  \n",
       "7   [Advertising, Artificial Intelligence, Data an...  \n",
       "8   [Apps, Artificial Intelligence, Data and Analy...  \n",
       "9   [Administrative Services, Artificial Intellige...  \n",
       "10  [Artificial Intelligence, Data and Analytics, ...  \n",
       "11  [Artificial Intelligence, Clothing and Apparel...  \n",
       "12  [Artificial Intelligence, Data and Analytics, ...  \n",
       "13  [Artificial Intelligence, Data and Analytics, ...  \n",
       "14  [Artificial Intelligence, Data and Analytics, ...  \n",
       "15  [Artificial Intelligence, Data and Analytics, ...  \n",
       "16  [Artificial Intelligence, Commerce and Shoppin...  \n",
       "17  [Artificial Intelligence, Data and Analytics, ...  \n",
       "18  [Artificial Intelligence, Data and Analytics, ...  \n",
       "19  [Artificial Intelligence, Commerce and Shoppin...  \n",
       "20  [Artificial Intelligence, Data and Analytics, ...  \n",
       "21  [Artificial Intelligence, Data and Analytics, ...  \n",
       "22  [Advertising, Artificial Intelligence, Data an...  \n",
       "23  [Artificial Intelligence, Data and Analytics, ...  \n",
       "24  [Advertising, Artificial Intelligence, Content...  \n",
       "25  [Artificial Intelligence, Data and Analytics, ...  \n",
       "26  [Artificial Intelligence, Data and Analytics, ...  \n",
       "27  [Artificial Intelligence, Data and Analytics, ...  \n",
       "28  [Artificial Intelligence, Data and Analytics, ...  \n",
       "29  [Artificial Intelligence, Data and Analytics, ...  \n",
       "30  [Administrative Services, Artificial Intellige...  \n",
       "31  [Artificial Intelligence, Data and Analytics, ...  \n",
       "32  [Artificial Intelligence, Content and Publishi...  "
      ]
     },
     "execution_count": 3,
     "metadata": {},
     "output_type": "execute_result"
    }
   ],
   "source": [
    "pd.DataFrame(get_data_diff())"
   ]
  },
  {
   "cell_type": "code",
   "execution_count": 20,
   "id": "22d103e3",
   "metadata": {},
   "outputs": [],
   "source": [
    "def is_company(name, company_identifiers=['LIMITED', 'LTD', 'L.T.D.', 'PLC', 'P.L.C.', 'L.P.', 'GROUP', 'INVESTMENT',\n",
    "                                          'INVESTMENTS', 'CAPITAL', 'CORP', 'CORPORATION', 'COMPANY', 'PARTNER', 'EQUITY',\n",
    "                                          'VENTURE', 'VENTURES', 'LP', 'LLP', 'L.P.', 'L.L.P.',\n",
    "                                          'LLC', 'L.L.C.', 'STARTUP', 'GMBH', 'G.M.B.H', 'SARL', 'S.A.R.L', 'S.A.R.L.', 'FONDATION',\n",
    "                                          'FOUNDATION', '&', 'TRUST', 'UNIVERSITY', 'SCHOOL', 'SUPPORT', 'SAS', 'S.A.S.',\n",
    "                                          'NOMINEE', 'TRADING', 'AS', 'MANAGEMENT']):\n",
    "    for id in company_identifiers:\n",
    "        pattern = r\"\\b\" + re.escape(id.lower()) + r\"\\b\"\n",
    "        if re.search(pattern, name.lower()):\n",
    "            return True\n",
    "\n",
    "    return False"
   ]
  },
  {
   "cell_type": "code",
   "execution_count": 21,
   "id": "1674332b",
   "metadata": {},
   "outputs": [
    {
     "data": {
      "text/plain": [
       "True"
      ]
     },
     "execution_count": 21,
     "metadata": {},
     "output_type": "execute_result"
    }
   ],
   "source": [
    "import re\n",
    "is_company('ASDAS MANAGEMENT')"
   ]
  },
  {
   "cell_type": "code",
   "execution_count": null,
   "id": "24b58a4f",
   "metadata": {},
   "outputs": [],
   "source": []
  }
 ],
 "metadata": {
  "kernelspec": {
   "display_name": "Python 3 (ipykernel)",
   "language": "python",
   "name": "python3"
  },
  "language_info": {
   "codemirror_mode": {
    "name": "ipython",
    "version": 3
   },
   "file_extension": ".py",
   "mimetype": "text/x-python",
   "name": "python",
   "nbconvert_exporter": "python",
   "pygments_lexer": "ipython3",
   "version": "3.10.12"
  }
 },
 "nbformat": 4,
 "nbformat_minor": 5
}
