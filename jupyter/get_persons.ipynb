{
 "cells": [
  {
   "cell_type": "code",
   "execution_count": 1,
   "id": "cdf30323",
   "metadata": {},
   "outputs": [],
   "source": [
    "data = {'properties': {'parsing_date': '2023-08-07', 'company_name': 'Analycat Limited', 'uuid': 'fb77fa19-7d14-43cf-baec-2aed76defb54', 'company_id': '09891467', 'url': 'https://find-and-update.company-information.service.gov.uk/company/09891467', 'key': 'company', 'address': 'Devonshire House, 582 Honeypot Lane, Stanmore, England, HA7 1JS', 'status': 'Active', 'type': 'Private limited Company', 'incorporated_on': '2015-11-26', 'sics': ['62020 - Information technology consultancy activities']}, 'cards': {'officer': {'url': 'https://find-and-update.company-information.service.gov.uk/company/09891467/officers', 'items': [{'name': 'Calev Hazan, Mathilda', 'appointments_url': 'https://find-and-update.company-information.service.gov.uk/officers/vpZxTfbiHLp7mHKA1zdvTC4Gv6c/appointments', 'address': 'Devonshire House, 582 Honeypot Lane, Stanmore, England, HA7 1JS', 'status': 'Active', 'role': 'Director', 'appointed_on': '2016-05-13', 'resigned_on': None, 'date_of_birth': '1946-08-01', 'nationality': 'British', 'residence': 'England', 'occupation': 'Retired'}, {'name': 'Hassan, Mathilda Calev', 'appointments_url': 'https://find-and-update.company-information.service.gov.uk/officers/Wj8hyp5v-wR4ySSAl8iwuGn5reI/appointments', 'address': 'Shenkers, 4th Flr,, Sutherland House, 70/78 West Hendon Broadway, London, England, NW9 7BT', 'status': None, 'role': 'Director', 'appointed_on': '2016-05-13', 'resigned_on': '2016-05-13', 'date_of_birth': '1946-08-01', 'nationality': 'British', 'residence': 'England', 'occupation': 'Retired'}, {'name': 'Hazan, Adi Richard', 'appointments_url': 'https://find-and-update.company-information.service.gov.uk/officers/05eH7s19dAOxT0oe29MBKOEBp0o/appointments', 'address': '2 Greycaine Road, Watford, England, WD24 7GP', 'status': None, 'role': 'Director', 'appointed_on': '2015-11-26', 'resigned_on': '2016-05-13', 'date_of_birth': '1971-12-01', 'nationality': 'South African', 'residence': 'England', 'occupation': 'It Consultant'}, {'name': 'Hazan, Adi-Richard', 'appointments_url': 'https://find-and-update.company-information.service.gov.uk/officers/9PpG6RQxCnjZpXmHSmOLMy2RqWQ/appointments', 'address': 'Devonshire House, 582 Honeypot Lane, Stanmore, England, HA7 1JS', 'status': 'Active', 'role': 'Director', 'appointed_on': '2016-04-13', 'resigned_on': None, 'date_of_birth': '1971-12-01', 'nationality': 'South African', 'residence': 'England', 'occupation': 'It Consultant'}, {'name': 'Hazan, Mathilda', 'appointments_url': 'https://find-and-update.company-information.service.gov.uk/officers/RdkjrO98-fVurJdI8cQp0DPPebo/appointments', 'address': 'Flat 29, Boulevard Drive, London, United Kingdom, NW9 5HF', 'status': None, 'role': 'Director', 'appointed_on': '2016-03-18', 'resigned_on': '2016-05-13', 'date_of_birth': '1946-06-01', 'nationality': 'British', 'residence': 'United Kingdom', 'occupation': 'Retired'}, {'name': 'Shenker, Michael Martin', 'appointments_url': 'https://find-and-update.company-information.service.gov.uk/officers/6MAdOx8rS1IP44WmF7cgvwc0UL4/appointments', 'address': 'Shenkers, Sutherland House, West Hendon Broadway, London, England, NW9 7BT', 'status': None, 'role': 'Director', 'appointed_on': '2016-04-13', 'resigned_on': '2016-04-13', 'date_of_birth': '1953-04-01', 'nationality': 'British', 'residence': 'England', 'occupation': 'Chartered Accountant'}]}, 'insolvency': {'url': 'https://find-and-update.company-information.service.gov.uk/company/09891467/insolvency', 'items': []}, 'shareholding': {'2022-11-29': {'source': 'Confirmation Statement', 'url': 'https://find-and-update.company-information.service.gov.uk/company/09891467/filing-history/MzM2MDE4Mzc1MGFkaXF6a2N4/document?format=pdf&download=0', 'received_date': '2022-11-29', 'filing_date': '2022-11-25', 'update': True, 'items': [{'name': 'ADI-RICHARD HAZAN', 'share_type': 'ORDINARY', 'shares': 1, 'is_company': False}]}, '2021-12-01': {'source': 'Confirmation Statement', 'url': 'https://find-and-update.company-information.service.gov.uk/company/09891467/filing-history/MzMyMjA3MTY0OWFkaXF6a2N4/document?format=pdf&download=0', 'received_date': '2021-12-01', 'filing_date': '2021-11-25', 'update': True, 'items': [{'name': 'ADI HAZAN', 'share_type': 'ORDINARY', 'shares': 1, 'is_company': False}]}, '2020-11-26': {'source': 'Confirmation Statement', 'url': 'https://find-and-update.company-information.service.gov.uk/company/09891467/filing-history/MzI4NDQ4NzYxM2FkaXF6a2N4/document?format=pdf&download=0', 'received_date': '2020-11-26', 'filing_date': '2020-11-25', 'update': False, 'items': []}, '2019-12-16': {'source': 'Confirmation Statement', 'url': 'https://find-and-update.company-information.service.gov.uk/company/09891467/filing-history/MzI1MjIzNzM0N2FkaXF6a2N4/document?format=pdf&download=0', 'received_date': '2019-12-16', 'filing_date': '2019-11-25', 'update': False, 'items': []}, '2018-12-10': {'source': 'Confirmation Statement', 'url': 'https://find-and-update.company-information.service.gov.uk/company/09891467/filing-history/MzIyMTY1NDI1MWFkaXF6a2N4/document?format=pdf&download=0', 'received_date': '2018-12-10', 'filing_date': '2018-11-25', 'update': False, 'items': []}, '2017-11-30': {'source': 'Confirmation Statement', 'url': 'https://find-and-update.company-information.service.gov.uk/company/09891467/filing-history/MzE5MTU3NzM2M2FkaXF6a2N4/document?format=pdf&download=0', 'received_date': '2017-11-30', 'filing_date': '2017-11-25', 'update': False, 'items': []}, '2016-12-16': {'source': 'Confirmation Statement', 'url': 'https://find-and-update.company-information.service.gov.uk/company/09891467/filing-history/MzE2NDYwMDc5NmFkaXF6a2N4/document?format=pdf&download=0', 'received_date': '2016-12-16', 'filing_date': '2016-11-25', 'update': True, 'items': []}, '2015-11-26': {'source': 'Incorporation', 'url': 'https://find-and-update.company-information.service.gov.uk/company/09891467/filing-history/MzEzNjA2NzYyNGFkaXF6a2N4/document?format=pdf&download=0', 'filing_date': '2015-11-26', 'received_date': '2015-11-26', 'update': True, 'items': [{'name': 'ADI HAZAN', 'address': ['2GREYCAINE ROAD', 'watford', 'england', 'WD24 7GP'], 'currency': 'GBP', 'nominal_value': 1.0, 'amount_unpaid': 0.0, 'amount_paid': 1.0, 'share_type': 'ORDINARY', 'shares': 1, 'is_company': False}]}}, 'incorporation': {'items': [{'name': 'ADI HAZAN', 'address': ['2GREYCAINE ROAD', 'watford', 'england', 'WD24 7GP'], 'currency': 'GBP', 'nominal_value': 1.0, 'amount_unpaid': 0.0, 'amount_paid': 1.0, 'share_type': 'ORDINARY', 'shares': 1, 'is_company': False}], 'url': 'https://find-and-update.company-information.service.gov.uk/company/09891467/filing-history/MzEzNjA2NzYyNGFkaXF6a2N4/document?format=pdf&download=0', 'received_date': '2015-11-26', 'update': True}, 'appointment': {'items': [{'name': 'Calev Hazan, Mathilda', 'officer_name': 'Mathilda Calev Hazan', 'url': 'https://find-and-update.company-information.service.gov.uk/officers/vpZxTfbiHLp7mHKA1zdvTC4Gv6c/appointments', 'key': 'appointment', 'date_of_birth': '1946-08-01', 'items': [{'company_name': 'Analycat Limited', 'company_id': '09891467', 'company_status': 'Active', 'address': 'Devonshire House, 582 Honeypot Lane, Stanmore, England, HA7 1JS', 'role': 'Director', 'status': 'Active', 'appointed_on': '2016-05-13', 'resigned_on': None, 'nationality': 'British', 'residence': 'England', 'occupation': 'Retired'}]}, {'name': 'Hassan, Mathilda Calev', 'officer_name': 'Mathilda Calev Hassan', 'url': 'https://find-and-update.company-information.service.gov.uk/officers/Wj8hyp5v-wR4ySSAl8iwuGn5reI/appointments', 'key': 'appointment', 'date_of_birth': '1946-08-01', 'items': [{'company_name': 'Analycat Limited', 'company_id': '09891467', 'company_status': 'Active', 'address': 'Shenkers, 4th Flr,, Sutherland House, 70/78 West Hendon Broadway, London, England, NW9 7BT', 'role': 'Director', 'status': None, 'appointed_on': '2016-05-13', 'resigned_on': '2016-05-13', 'nationality': 'British', 'residence': 'England', 'occupation': 'Retired'}]}, {'name': 'Hazan, Adi Richard', 'officer_name': 'Adi Richard Hazan', 'url': 'https://find-and-update.company-information.service.gov.uk/officers/05eH7s19dAOxT0oe29MBKOEBp0o/appointments', 'key': 'appointment', 'date_of_birth': '1971-12-01', 'items': [{'company_name': 'Analycat Limited', 'company_id': '09891467', 'company_status': 'Active', 'address': '2 Greycaine Road, Watford, England, WD24 7GP', 'role': 'Director', 'status': None, 'appointed_on': '2015-11-26', 'resigned_on': '2016-05-13', 'nationality': 'South African', 'residence': 'England', 'occupation': 'It Consultant'}]}, {'name': 'Hazan, Adi-Richard', 'officer_name': 'Adi-Richard Hazan', 'url': 'https://find-and-update.company-information.service.gov.uk/officers/9PpG6RQxCnjZpXmHSmOLMy2RqWQ/appointments', 'key': 'appointment', 'date_of_birth': '1971-12-01', 'items': [{'company_name': 'Analycat Limited', 'company_id': '09891467', 'company_status': 'Active', 'address': 'Devonshire House, 582 Honeypot Lane, Stanmore, England, HA7 1JS', 'role': 'Director', 'status': 'Active', 'appointed_on': '2016-04-13', 'resigned_on': None, 'nationality': 'South African', 'residence': 'England', 'occupation': 'It Consultant'}]}, {'name': 'Hazan, Mathilda', 'officer_name': 'Mathilda Hazan', 'url': 'https://find-and-update.company-information.service.gov.uk/officers/RdkjrO98-fVurJdI8cQp0DPPebo/appointments', 'key': 'appointment', 'date_of_birth': '1946-06-01', 'items': [{'company_name': 'Analycat Limited', 'company_id': '09891467', 'company_status': 'Active', 'address': 'Flat 29, Boulevard Drive, London, United Kingdom, NW9 5HF', 'role': 'Director', 'status': None, 'appointed_on': '2016-03-18', 'resigned_on': '2016-05-13', 'nationality': 'British', 'residence': 'United Kingdom', 'occupation': 'Retired'}]}, {'name': 'Shenker, Michael Martin', 'officer_name': 'Michael Martin Shenker', 'url': 'https://find-and-update.company-information.service.gov.uk/officers/6MAdOx8rS1IP44WmF7cgvwc0UL4/appointments', 'key': 'appointment', 'date_of_birth': '1953-04-01', 'items': [{'company_name': 'Analycat Limited', 'company_id': '09891467', 'company_status': 'Active', 'address': 'Shenkers, Sutherland House, West Hendon Broadway, London, England, NW9 7BT', 'role': 'Director', 'status': None, 'appointed_on': '2016-04-13', 'resigned_on': '2016-04-13', 'nationality': 'British', 'residence': 'England', 'occupation': 'Chartered Accountant'}]}]}}, 'source': 'companieshouse'}"
   ]
  },
  {
   "cell_type": "code",
   "execution_count": 200,
   "id": "499986cc",
   "metadata": {},
   "outputs": [],
   "source": [
    "officers = [{'name': 'Calev Hazan, Mathilda',\n",
    "  'appointments_url': 'https://find-and-update.company-information.service.gov.uk/officers/vpZxTfbiHLp7mHKA1zdvTC4Gv6c/appointments',\n",
    "  'address': 'Devonshire House, 582 Honeypot Lane, Stanmore, England, HA7 1JS',\n",
    "  'status': 'Active',\n",
    "  'role': 'Director',\n",
    "  'appointed_on': '2016-05-13',\n",
    "  'resigned_on': None,\n",
    "  'date_of_birth': '1977-01-01',\n",
    "  'nationality': 'British',\n",
    "  'residence': 'England',\n",
    "  'occupation': 'Retired'},\n",
    " {'name': 'Hassan, Mathilda Calev',\n",
    "  'appointments_url': 'https://find-and-update.company-information.service.gov.uk/officers/Wj8hyp5v-wR4ySSAl8iwuGn5reI/appointments',\n",
    "  'address': 'Shenkers, 4th Flr,, Sutherland House, 70/78 West Hendon Broadway, London, England, NW9 7BT',\n",
    "  'status': None,\n",
    "  'role': 'Shareholder',\n",
    "  'appointed_on': '2016-05-13',\n",
    "  'resigned_on': '2016-05-13',\n",
    "  'date_of_birth': '',\n",
    "  'nationality': 'British',\n",
    "  'residence': 'England',\n",
    "  'occupation': 'Retired'},\n",
    " {'name': 'Hazan, Adi Richard',\n",
    "  'appointments_url': 'https://find-and-update.company-information.service.gov.uk/officers/05eH7s19dAOxT0oe29MBKOEBp0o/appointments',\n",
    "  'address': '2 Greycaine Road, Watford, England, WD24 7GP',\n",
    "  'status': None,\n",
    "  'role': 'Director',\n",
    "  'appointed_on': '2015-11-26',\n",
    "  'resigned_on': '2016-05-13',\n",
    "  'date_of_birth': '1971-12-01',\n",
    "  'nationality': 'South African',\n",
    "  'residence': 'England',\n",
    "  'occupation': 'It Consultant'},\n",
    " {'name': 'Hazan, Adi-Richard',\n",
    "  'appointments_url': 'https://find-and-update.company-information.service.gov.uk/officers/9PpG6RQxCnjZpXmHSmOLMy2RqWQ/appointments',\n",
    "  'address': 'Devonshire House, 582 Honeypot Lane, Stanmore, England, HA7 1JS',\n",
    "  'status': 'Active',\n",
    "  'role': 'Director',\n",
    "  'appointed_on': '2016-04-13',\n",
    "  'resigned_on': None,\n",
    "  'date_of_birth': '1971-12-01',\n",
    "  'nationality': 'South African',\n",
    "  'residence': 'England',\n",
    "  'occupation': 'It Consultant'},\n",
    " {'name': 'Hazan, Mathilda',\n",
    "  'appointments_url': 'https://find-and-update.company-information.service.gov.uk/officers/RdkjrO98-fVurJdI8cQp0DPPebo/appointments',\n",
    "  'address': 'Flat 29, Boulevard Drive, London, United Kingdom, NW9 5HF',\n",
    "  'status': None,\n",
    "  'role': 'Director',\n",
    "  'appointed_on': '2016-03-18',\n",
    "  'resigned_on': '2016-05-13',\n",
    "  'date_of_birth': '1946-06-01',\n",
    "  'nationality': 'British',\n",
    "  'residence': 'United Kingdom',\n",
    "  'occupation': 'Retired'},\n",
    " {'name': 'Shenker, Michael Martin',\n",
    "  'appointments_url': 'https://find-and-update.company-information.service.gov.uk/officers/6MAdOx8rS1IP44WmF7cgvwc0UL4/appointments',\n",
    "  'address': 'Shenkers, Sutherland House, West Hendon Broadway, London, England, NW9 7BT',\n",
    "  'status': None,\n",
    "  'role': 'Director',\n",
    "  'appointed_on': '2016-04-13',\n",
    "  'resigned_on': '2016-04-13',\n",
    "  'date_of_birth': '1953-04-01',\n",
    "  'nationality': 'British',\n",
    "  'residence': 'England',\n",
    "  'occupation': 'Chartered Accountant'}]"
   ]
  },
  {
   "cell_type": "code",
   "execution_count": 193,
   "id": "53b20de2",
   "metadata": {},
   "outputs": [],
   "source": [
    "shareholders = data['cards']['shareholding']"
   ]
  },
  {
   "cell_type": "code",
   "execution_count": 194,
   "id": "415146ba",
   "metadata": {},
   "outputs": [],
   "source": [
    "founders = data['cards']['incorporation']['items']"
   ]
  },
  {
   "cell_type": "code",
   "execution_count": 376,
   "id": "589762e5",
   "metadata": {},
   "outputs": [],
   "source": [
    "import re\n",
    "\n",
    "def add_dots(string):\n",
    "    # add a dot after each character\n",
    "    string = '.'.join(string) + '.'\n",
    "    # remove the dot if it was added after a space or before a dot\n",
    "    string = string.replace('. .', ' ').replace('..', '.')\n",
    "    return string\n",
    "\n",
    "ORGANIZATION_SHORTCUTS = ['AB', 'AG', 'ASBL', 'BV', 'BVBA', 'Bt.', 'CO', 'CO.', 'EIRL', 'EARL', 'EI', 'ETI', \n",
    "                     'EURL', 'EV', 'GAEC', 'GCS', 'GIE', 'GMBH', 'Gbr', 'INC', 'INC.', 'KG', 'KGaA', 'KK', \n",
    "                     'Kd', 'Kft', 'Kkt', 'LDA', 'LLC', 'LLLP', 'LLP', 'LP', 'LTD', 'M.B.', 'ME', 'NV', \n",
    "                     'Nyrt', 'OG', 'OOO', 'PLC', 'PT', 'PTE', 'PTE LTD', 'PTY', 'PTY LTD', 'PVT', 'PartG', 'QSC', 'Rt', \n",
    "                     'SCI', 'SPA', 'SA', 'SAOC', 'SAOG', 'SAPA', 'SARL', 'SAS', 'SASU', 'SC', 'SCA', \n",
    "                     'SCM', 'SCP', 'SCRL', 'SCS', 'SDN', 'SE', 'SELARL', 'SERL', 'SL', 'SLL', 'SLNE', 'SLU', 'SNC', \n",
    "                     'SP.ZO.O', 'SPRL', 'SRL', 'StH', 'UA', 'ULC', 'VOF', 'VAG', 'VC', 'VZW', 'Zrt', 'eG', 'eU', 'mbH', \n",
    "                     'АО', 'ООО']\n",
    "\n",
    "ORGANIZATION_SHORTCUTS_WITH_DOTS = [add_dots(identifier) for identifier in ORGANIZATION_SHORTCUTS]\n",
    "    \n",
    "ORGANIZATION_NAMES = ['LIMITED', 'GROUP', 'INVESTMENT', 'INVESTMENTS', 'CAPITAL', 'CORP', \n",
    "                           'CORPORATION', 'COMPANY', 'PARTNER', 'EQUITY', 'VENTURE', 'VENTURES', 'STARTUP', \n",
    "                           'FONDATION', 'FOUNDATION', '&', 'TRUST', 'UNIVERSITY', 'SCHOOL', 'SUPPORT', \n",
    "                           'MANAGEMENT', 'NOMINEE', 'TRADING', 'HOLDING', 'LABS', 'TRUSTEE', 'TRUSTEES',\n",
    "                           'COUNCIL']\n",
    "\n",
    "def is_organization(name):\n",
    "\n",
    "    # Combine the original and new lists\n",
    "    identifiers = ORGANIZATION_NAMES + ORGANIZATION_SHORTCUTS + ORGANIZATION_SHORTCUTS_WITH_DOTS\n",
    "    \n",
    "    # Prepare pattern (escape each value to handle special regex characters, join with '|')\n",
    "    pattern = '|'.join(re.escape(value) for value in identifiers)\n",
    "\n",
    "    # Create full pattern with custom \"word boundaries\", case insensitive\n",
    "    full_pattern = r'(?:(?<=\\W)|^)(' + pattern + r')(?:(?=\\W)|$)'\n",
    "    full_pattern = re.compile(full_pattern, re.IGNORECASE)\n",
    "\n",
    "    return bool(re.search(full_pattern, name))"
   ]
  },
  {
   "cell_type": "code",
   "execution_count": 415,
   "id": "88641457",
   "metadata": {},
   "outputs": [],
   "source": [
    "from fuzzywuzzy import fuzz\n",
    "import itertools\n",
    "\n",
    "def get_profile_name(name):\n",
    "    name_split = name.split(' ')\n",
    "    if len(name_split) == 0:\n",
    "        return name_split[0]\n",
    "    else:\n",
    "        return  name_split[0] + ' ' + name_split[-1]\n",
    "\n",
    "    \n",
    "def get_persons(data, ratio=80, ratio_dob=60):\n",
    "    unique_shareholders = get_unique_shareholders(data['cards']['shareholding'], ratio=ratio)\n",
    "    unique_officers = get_unique_officers(data['cards']['officer']['items'], ratio=ratio, ratio_dob=ratio_dob)\n",
    "    unique_founders = get_unique_founders(data['cards']['incorporation']['items'], ratio=ratio)\n",
    "    \n",
    "    persons = unique_shareholders + unique_officers + unique_founders\n",
    "    unique_persons = get_unique_persons(persons, ratio, ratio_dob)\n",
    "    return unique_persons\n",
    "    \n",
    "def get_name_combinations(name, length, ignore_single_characters=True):\n",
    "#     print(name, length)\n",
    "    # Break the name into individual words and remove single character words\n",
    "    if ignore_single_characters:\n",
    "        name_parts = [part for part in name.lower().split() if len(part.replace('.', '')) > 1]\n",
    "    else:\n",
    "        name_parts = name.lower().split()\n",
    "\n",
    "    # Create combinations of the given length\n",
    "    return list(itertools.combinations(name_parts, length))\n",
    "\n",
    "def match_names(name1, name2, ratio=80):\n",
    "    # Get permutations for both names\n",
    "    \n",
    "    name1_parts = name1.lower().split()\n",
    "    name2_parts = name2.lower().split()\n",
    "    \n",
    "    # If both names have only one part, check for an exact match\n",
    "    if len(name1_parts) == 1 and len(name2_parts) == 1:\n",
    "        return name1_parts[0] == name2_parts[0]\n",
    " \n",
    "    # If one of the names has two parts with one of them having only one character, \n",
    "    # check if it exactly matches one of the tuples of the other name\n",
    "    if len(name1_parts) == 2 and any(len(part) == 1 for part in name1_parts):\n",
    "        return any(set(name1_parts) == set(perm) for perm in get_name_combinations(name2, 2, ignore_single_characters=False))\n",
    "    if len(name2_parts) == 2 and any(len(part) == 1 for part in name2_parts):\n",
    "        return any(set(name2_parts) == set(perm) for perm in get_name_combinations(name1, 2, ignore_single_characters=False))\n",
    "\n",
    "    name1_combinations = get_name_combinations(name1, 2)\n",
    "    name2_combinations = get_name_combinations(name2, 2)\n",
    "\n",
    "#     print(name1_combinations, name2_combinations)\n",
    "    # Loop through each permutation pair and apply fuzzy matching\n",
    "    for perm1 in name1_combinations:\n",
    "        for perm2 in name2_combinations:\n",
    "            name_1 = ' '.join(perm1)\n",
    "            name_2 = ' '.join(perm2)\n",
    "            r = fuzz.token_set_ratio(name_1, name_2)\n",
    "#             print(perm1, perm2, name_1, name_2, r)\n",
    "            # We join the tuples back into strings for comparison using token_set_ratio\n",
    "            if r >= ratio:  \n",
    "                # If any pair of permutations has a high match ratio, consider the names a match\n",
    "                return True\n",
    "\n",
    "    # If no pairs of permutations have a high match ratio, the names don't match\n",
    "    return False\n",
    "\n",
    "def get_unique_founders(people, ratio=80):\n",
    "    people_copy = people.copy()  # Create a copy of the original list\n",
    "    unique_people = []\n",
    "    while people_copy:\n",
    "        person = people_copy.pop(0)  # Start with the first person\n",
    "        \n",
    "        # If the name is a company name, skip it and continue with the next person\n",
    "        if is_organization(person[\"name\"]):\n",
    "            continue\n",
    "\n",
    "        # Separate the rest into duplicates and non-duplicates of this person\n",
    "        duplicates = []\n",
    "        non_duplicates = []\n",
    "        for other_person in people_copy:\n",
    "            similar_n = match_names(person[\"name\"], other_person[\"name\"], ratio=ratio)\n",
    "            if similar_n:\n",
    "                duplicates.append(other_person)\n",
    "            else:\n",
    "                non_duplicates.append(other_person)\n",
    "        \n",
    "        # Merge the person and duplicates into a single record\n",
    "        merged_person = {\"name\": \"\", \"full_name\" : \"\", \"profile_name\" : \"\", \"occupation\": ['Founder'], \"date_of_birth\": None}\n",
    "            \n",
    "        for p in [person] + duplicates:\n",
    "            \n",
    "            if len(p[\"name\"]) > len(merged_person[\"name\"]):  # Keep the longest name\n",
    "                \n",
    "                name = p['name'].replace('-', ' ')\n",
    "                \n",
    "                full_name = name.split(' ')  # need to rotate first and last names to make it the same as shareholding\n",
    "                first_names = full_name[0:len(full_name) - 1]\n",
    "                first_names = [s.capitalize() for s in first_names]\n",
    "                last_name = full_name[-1].title()\n",
    "                full_name = last_name + ', ' + ' '.join(first_names)\n",
    "                profile_name_split = full_name.split(',')\n",
    "                profile_name = profile_name_split[1].strip().split(' ')[0].strip() + ' ' + profile_name_split[0]\n",
    "                \n",
    "                merged_person[\"name\"] = name.title()\n",
    "                merged_person[\"full_name\"] = full_name.title()\n",
    "                merged_person[\"profile_name\"] = profile_name.title()\n",
    "        \n",
    "        unique_people.append(merged_person)\n",
    "        people_copy = non_duplicates  # Continue with the remaining people\n",
    "    unique_people = sorted(unique_people, key=lambda x: x['name'])\n",
    "    return unique_people\n",
    "\n",
    "    \n",
    "def get_unique_shareholders(people, ratio=80):\n",
    "    people_copy = []\n",
    "    for key, value in people.copy().items():\n",
    "        if value['items']: people_copy.extend(value['items'])\n",
    "    \n",
    "    unique_people = []\n",
    "    while people_copy:\n",
    "        person = people_copy.pop(0)  # Start with the first person\n",
    "        \n",
    "        # If the name is a company name, skip it and continue with the next person\n",
    "        if is_organization(person[\"name\"]):\n",
    "            continue\n",
    "\n",
    "        # Separate the rest into duplicates and non-duplicates of this person\n",
    "        duplicates = []\n",
    "        non_duplicates = []\n",
    "        for other_person in people_copy:\n",
    "            similar_n = match_names(person[\"name\"], other_person[\"name\"], ratio=ratio)\n",
    "#             print(f'{person[\"name\"]} | {other_person[\"name\"]} | {similar_n}')\n",
    "            if similar_n:    \n",
    "                duplicates.append(other_person)\n",
    "            else:\n",
    "                non_duplicates.append(other_person)\n",
    "        \n",
    "        # Merge the person and duplicates into a single record\n",
    "        merged_person = {\"name\": \"\", \"full_name\" :\"\", \"profile_name\" :\"\", \"occupation\": ['Shareholder'], \"date_of_birth\": None}\n",
    "        for p in [person] + duplicates:\n",
    "            \n",
    "            if len(p[\"name\"]) > len(merged_person[\"name\"]):  # Keep the longest name\n",
    "                name = p['name'].replace('-', ' ')\n",
    "                full_name = p['name'].split(' ')  # need to rotate first and last names to make it the same as shareholding\n",
    "                first_names = full_name[0:len(full_name) - 1]\n",
    "                first_names = [s.capitalize() for s in first_names]\n",
    "                last_name = full_name[-1].title()\n",
    "                full_name = last_name + ', ' + ' '.join(first_names)\n",
    "                profile_name_split = full_name.split(',')\n",
    "                profile_name = profile_name_split[1].strip().split(' ')[0].strip() + ' ' + profile_name_split[0]\n",
    "                \n",
    "                merged_person[\"name\"] = name.title()\n",
    "                merged_person[\"full_name\"] = full_name.title()\n",
    "                merged_person[\"profile_name\"] = profile_name.title()\n",
    "                        \n",
    "        unique_people.append(merged_person)\n",
    "        people_copy = non_duplicates  # Continue with the remaining people\n",
    "    unique_people = sorted(unique_people, key=lambda x: x['name'])\n",
    "    return unique_people\n",
    "\n",
    "def get_unique_officers(people, ratio=80, ratio_dob=60, occupations_name='role', full_name_name='name'):\n",
    "    people_copy = people.copy()  # Create a copy of the original list\n",
    "    unique_people = []\n",
    "#     print(people_copy)\n",
    "    while people_copy:\n",
    "        person = people_copy.pop(0)  # Start with the first person\n",
    "        \n",
    "        # If the name is a company name, skip it and continue with the next person\n",
    "        if is_organization(person[\"name\"]):\n",
    "            print('is_organization')\n",
    "            continue\n",
    "\n",
    "        # Separate the rest into duplicates and non-duplicates of this person\n",
    "        duplicates = []\n",
    "        non_duplicates = []\n",
    "        for other_person in people_copy:\n",
    "            similar_n = match_names(person[\"name\"], other_person[\"name\"], ratio=ratio)\n",
    "            similar_dob_n = match_names(person[\"name\"], other_person[\"name\"], ratio=ratio_dob)\n",
    "            similar_dob = False\n",
    "            if person[\"date_of_birth\"] or other_person[\"date_of_birth\"]:\n",
    "                similar_dob = person[\"date_of_birth\"] == other_person[\"date_of_birth\"]\n",
    "#             print(f'{person[\"name\"]} | {other_person[\"name\"]} | {similar_n} {similar_dob_n and similar_dob}')\n",
    "            if similar_n or (similar_dob_n and similar_dob):    \n",
    "                duplicates.append(other_person)\n",
    "            else:\n",
    "                non_duplicates.append(other_person)\n",
    "        \n",
    "        # Merge the person and duplicates into a single record\n",
    "        merged_person = {\"name\": \"\", \"profile_name\" :\"\", \"occupation\": [], \"date_of_birth\": None}\n",
    "            \n",
    "        for p in [person] + duplicates:\n",
    "            \n",
    "            if len(p[full_name_name]) > len(merged_person[\"name\"]):  # Keep the longest name\n",
    "                \n",
    "                name = p['name'].title()\n",
    "                profile_name = get_profile_name(name)\n",
    "                merged_person[\"name\"] = name\n",
    "                merged_person[\"profile_name\"] = profile_name.title()\n",
    "                \n",
    "            if p[occupations_name] not in merged_person[\"occupation\"]:  # Combine the roles\n",
    "                if type(p[occupations_name]) == str:\n",
    "                    merged_person[\"occupation\"].append(p[occupations_name])\n",
    "                else:\n",
    "                    merged_person[\"occupation\"].extend(p[occupations_name])\n",
    "                \n",
    "            if \"date_of_birth\" in p and p[\"date_of_birth\"]:  # Retain the birth date if available\n",
    "                merged_person[\"date_of_birth\"] = p[\"date_of_birth\"]\n",
    "        \n",
    "        merged_person[\"occupation\"] = list(sorted(set(merged_person[\"occupation\"])))\n",
    "        unique_people.append(merged_person)\n",
    "        people_copy = non_duplicates  # Continue with the remaining people\n",
    "#         print(people_copy)\n",
    "    unique_people = sorted(unique_people, key=lambda x: x['name'])\n",
    "    return unique_people\n",
    "\n",
    "def get_unique_persons(data, ratio, ratio_dob):\n",
    "    return get_unique_officers(data, ratio, ratio_dob, occupations_name='occupation', full_name_name='full_name')"
   ]
  },
  {
   "cell_type": "code",
   "execution_count": 409,
   "id": "004f3208",
   "metadata": {},
   "outputs": [
    {
     "data": {
      "text/plain": [
       "True"
      ]
     },
     "execution_count": 409,
     "metadata": {},
     "output_type": "execute_result"
    }
   ],
   "source": [
    "None == None"
   ]
  },
  {
   "cell_type": "code",
   "execution_count": 403,
   "id": "fce57a01",
   "metadata": {},
   "outputs": [
    {
     "name": "stdout",
     "output_type": "stream",
     "text": [
      "[{'name': 'Calev Hazan, Mathilda', 'appointments_url': 'https://find-and-update.company-information.service.gov.uk/officers/vpZxTfbiHLp7mHKA1zdvTC4Gv6c/appointments', 'address': 'Devonshire House, 582 Honeypot Lane, Stanmore, England, HA7 1JS', 'status': 'Active', 'role': 'Director', 'appointed_on': '2016-05-13', 'resigned_on': None, 'date_of_birth': '1977-01-01', 'nationality': 'British', 'residence': 'England', 'occupation': 'Retired'}, {'name': 'Hassan, Mathilda Calev', 'appointments_url': 'https://find-and-update.company-information.service.gov.uk/officers/Wj8hyp5v-wR4ySSAl8iwuGn5reI/appointments', 'address': 'Shenkers, 4th Flr,, Sutherland House, 70/78 West Hendon Broadway, London, England, NW9 7BT', 'status': None, 'role': 'Shareholder', 'appointed_on': '2016-05-13', 'resigned_on': '2016-05-13', 'date_of_birth': '', 'nationality': 'British', 'residence': 'England', 'occupation': 'Retired'}, {'name': 'Hazan, Adi Richard', 'appointments_url': 'https://find-and-update.company-information.service.gov.uk/officers/05eH7s19dAOxT0oe29MBKOEBp0o/appointments', 'address': '2 Greycaine Road, Watford, England, WD24 7GP', 'status': None, 'role': 'Director', 'appointed_on': '2015-11-26', 'resigned_on': '2016-05-13', 'date_of_birth': '1971-12-01', 'nationality': 'South African', 'residence': 'England', 'occupation': 'It Consultant'}, {'name': 'Hazan, Adi-Richard', 'appointments_url': 'https://find-and-update.company-information.service.gov.uk/officers/9PpG6RQxCnjZpXmHSmOLMy2RqWQ/appointments', 'address': 'Devonshire House, 582 Honeypot Lane, Stanmore, England, HA7 1JS', 'status': 'Active', 'role': 'Director', 'appointed_on': '2016-04-13', 'resigned_on': None, 'date_of_birth': '1971-12-01', 'nationality': 'South African', 'residence': 'England', 'occupation': 'It Consultant'}, {'name': 'Hazan, Mathilda', 'appointments_url': 'https://find-and-update.company-information.service.gov.uk/officers/RdkjrO98-fVurJdI8cQp0DPPebo/appointments', 'address': 'Flat 29, Boulevard Drive, London, United Kingdom, NW9 5HF', 'status': None, 'role': 'Director', 'appointed_on': '2016-03-18', 'resigned_on': '2016-05-13', 'date_of_birth': '1946-06-01', 'nationality': 'British', 'residence': 'United Kingdom', 'occupation': 'Retired'}, {'name': 'Shenker, Michael Martin', 'appointments_url': 'https://find-and-update.company-information.service.gov.uk/officers/6MAdOx8rS1IP44WmF7cgvwc0UL4/appointments', 'address': 'Shenkers, Sutherland House, West Hendon Broadway, London, England, NW9 7BT', 'status': None, 'role': 'Director', 'appointed_on': '2016-04-13', 'resigned_on': '2016-04-13', 'date_of_birth': '1953-04-01', 'nationality': 'British', 'residence': 'England', 'occupation': 'Chartered Accountant'}]\n",
      "Calev Hazan, Mathilda | Hassan, Mathilda Calev | True False\n",
      "Calev Hazan, Mathilda | Hazan, Adi Richard | False False\n",
      "Calev Hazan, Mathilda | Hazan, Adi-Richard | False False\n",
      "Calev Hazan, Mathilda | Hazan, Mathilda | True False\n",
      "Calev Hazan, Mathilda | Shenker, Michael Martin | False False\n",
      "[{'name': 'Hazan, Adi Richard', 'appointments_url': 'https://find-and-update.company-information.service.gov.uk/officers/05eH7s19dAOxT0oe29MBKOEBp0o/appointments', 'address': '2 Greycaine Road, Watford, England, WD24 7GP', 'status': None, 'role': 'Director', 'appointed_on': '2015-11-26', 'resigned_on': '2016-05-13', 'date_of_birth': '1971-12-01', 'nationality': 'South African', 'residence': 'England', 'occupation': 'It Consultant'}, {'name': 'Hazan, Adi-Richard', 'appointments_url': 'https://find-and-update.company-information.service.gov.uk/officers/9PpG6RQxCnjZpXmHSmOLMy2RqWQ/appointments', 'address': 'Devonshire House, 582 Honeypot Lane, Stanmore, England, HA7 1JS', 'status': 'Active', 'role': 'Director', 'appointed_on': '2016-04-13', 'resigned_on': None, 'date_of_birth': '1971-12-01', 'nationality': 'South African', 'residence': 'England', 'occupation': 'It Consultant'}, {'name': 'Shenker, Michael Martin', 'appointments_url': 'https://find-and-update.company-information.service.gov.uk/officers/6MAdOx8rS1IP44WmF7cgvwc0UL4/appointments', 'address': 'Shenkers, Sutherland House, West Hendon Broadway, London, England, NW9 7BT', 'status': None, 'role': 'Director', 'appointed_on': '2016-04-13', 'resigned_on': '2016-04-13', 'date_of_birth': '1953-04-01', 'nationality': 'British', 'residence': 'England', 'occupation': 'Chartered Accountant'}]\n",
      "Hazan, Adi Richard | Hazan, Adi-Richard | True True\n",
      "Hazan, Adi Richard | Shenker, Michael Martin | False False\n",
      "[{'name': 'Shenker, Michael Martin', 'appointments_url': 'https://find-and-update.company-information.service.gov.uk/officers/6MAdOx8rS1IP44WmF7cgvwc0UL4/appointments', 'address': 'Shenkers, Sutherland House, West Hendon Broadway, London, England, NW9 7BT', 'status': None, 'role': 'Director', 'appointed_on': '2016-04-13', 'resigned_on': '2016-04-13', 'date_of_birth': '1953-04-01', 'nationality': 'British', 'residence': 'England', 'occupation': 'Chartered Accountant'}]\n",
      "[]\n"
     ]
    },
    {
     "data": {
      "text/plain": [
       "[{'name': 'Hassan, Mathilda Calev',\n",
       "  'profile_name': 'Hassan, Calev',\n",
       "  'occupation': ['Director', 'Shareholder'],\n",
       "  'date_of_birth': '1946-06-01'},\n",
       " {'name': 'Hazan, Adi Richard',\n",
       "  'profile_name': 'Hazan, Richard',\n",
       "  'occupation': ['Director'],\n",
       "  'date_of_birth': '1971-12-01'},\n",
       " {'name': 'Shenker, Michael Martin',\n",
       "  'profile_name': 'Shenker, Martin',\n",
       "  'occupation': ['Director'],\n",
       "  'date_of_birth': '1953-04-01'}]"
      ]
     },
     "execution_count": 403,
     "metadata": {},
     "output_type": "execute_result"
    }
   ],
   "source": [
    "get_unique_officers(officers)"
   ]
  },
  {
   "cell_type": "code",
   "execution_count": 373,
   "id": "14aa525a",
   "metadata": {},
   "outputs": [
    {
     "data": {
      "text/plain": [
       "[{'name': 'Adi Richard Hazan',\n",
       "  'full_name': 'Hazan, Adi-Richard',\n",
       "  'profile_name': 'Adi-Richard Hazan',\n",
       "  'occupation': ['Shareholder'],\n",
       "  'date_of_birth': None}]"
      ]
     },
     "execution_count": 373,
     "metadata": {},
     "output_type": "execute_result"
    }
   ],
   "source": [
    "get_unique_shareholders(shareholders)"
   ]
  },
  {
   "cell_type": "code",
   "execution_count": 374,
   "id": "f7bc4dc5",
   "metadata": {},
   "outputs": [
    {
     "data": {
      "text/plain": [
       "[{'name': 'Adi Hazan',\n",
       "  'full_name': 'Hazan, Adi',\n",
       "  'profile_name': 'Adi Hazan',\n",
       "  'occupation': ['Founder'],\n",
       "  'date_of_birth': None}]"
      ]
     },
     "execution_count": 374,
     "metadata": {},
     "output_type": "execute_result"
    }
   ],
   "source": [
    "get_unique_founders(founders)"
   ]
  },
  {
   "cell_type": "code",
   "execution_count": 375,
   "id": "bc55ac55",
   "metadata": {},
   "outputs": [
    {
     "data": {
      "text/plain": [
       "[{'name': 'Adi Richard Hazan',\n",
       "  'full_name': 'Hazan, Adi Richard',\n",
       "  'profile_name': 'Adi Hazan',\n",
       "  'occupation': ['Shareholder', 'Director', 'Founder'],\n",
       "  'date_of_birth': '1971-12-01'},\n",
       " {'name': 'Mathilda Calev Hassan',\n",
       "  'full_name': 'Hassan, Mathilda Calev',\n",
       "  'profile_name': 'Mathilda Hassan',\n",
       "  'occupation': ['Director'],\n",
       "  'date_of_birth': '1946-06-01'},\n",
       " {'name': 'Michael Martin Shenker',\n",
       "  'full_name': 'Shenker, Michael Martin',\n",
       "  'profile_name': 'Michael Shenker',\n",
       "  'occupation': ['Director'],\n",
       "  'date_of_birth': '1953-04-01'}]"
      ]
     },
     "execution_count": 375,
     "metadata": {},
     "output_type": "execute_result"
    }
   ],
   "source": [
    "get_persons(data)"
   ]
  },
  {
   "cell_type": "code",
   "execution_count": 379,
   "id": "9b5edc43",
   "metadata": {},
   "outputs": [
    {
     "data": {
      "text/plain": [
       "[]"
      ]
     },
     "execution_count": 379,
     "metadata": {},
     "output_type": "execute_result"
    }
   ],
   "source": [
    "list(sorted(set([])))"
   ]
  },
  {
   "cell_type": "code",
   "execution_count": 405,
   "id": "1f70ba38",
   "metadata": {},
   "outputs": [
    {
     "data": {
      "text/plain": [
       "False"
      ]
     },
     "execution_count": 405,
     "metadata": {},
     "output_type": "execute_result"
    }
   ],
   "source": [
    "match_names(\"Debora Marques De Miranda\", \"Priscila Barbosa De Oliveira Spadinger\")"
   ]
  },
  {
   "cell_type": "code",
   "execution_count": 382,
   "id": "8e4ce209",
   "metadata": {},
   "outputs": [],
   "source": [
    "def align_name(name):\n",
    "    split_name = name.split(',')\n",
    "    aligned_name = ' '.join([n.strip() for n in split_name[::-1]])\n",
    "    return aligned_name\n",
    "\n"
   ]
  },
  {
   "cell_type": "code",
   "execution_count": 384,
   "id": "9d7ab463",
   "metadata": {},
   "outputs": [
    {
     "name": "stdout",
     "output_type": "stream",
     "text": [
      "Guilherme Augusto DIAS REIS\n",
      "Guilherme Augusto DIAS REIS\n"
     ]
    }
   ],
   "source": [
    "# usage\n",
    "name_with_comma = \"DIAS REIS, Guilherme Augusto\"\n",
    "name_without_comma = \"Guilherme Augusto DIAS REIS\"\n",
    "\n",
    "print(align_name(name_with_comma))  # Output: Guilherme Augusto DIAS REIS\n",
    "print(align_name(name_without_comma)) "
   ]
  },
  {
   "cell_type": "code",
   "execution_count": 408,
   "id": "e4f5721a",
   "metadata": {},
   "outputs": [
    {
     "data": {
      "text/plain": [
       "'[{\"name\": \"Alessandra Alkimin Costa\", \"profile_name\": \"Alessandra Costa\", \"occupation\": [\"Shareholder\"], \"date_of_birth\": null}, {\"name\": \"Daniel Carvalho Melo\", \"profile_name\": \"Daniel Melo\", \"occupation\": [\"Shareholder\"], \"date_of_birth\": null}, {\"name\": \"Debora Marques De Miranda\", \"profile_name\": \"Debora Miranda\", \"occupation\": [\"Shareholder\"], \"date_of_birth\": null}, {\"name\": \"Guilherme Augusto Dias Reis\", \"profile_name\": \"Guilherme Reis\", \"occupation\": [\"Shareholder\"], \"date_of_birth\": null}, {\"name\": \"Marco Aurelio Romano Silva\", \"profile_name\": \"Marco Silva\", \"occupation\": [\"Shareholder\"], \"date_of_birth\": null}, {\"name\": \"Priscila Barbosa De Oliveira Spadinger\", \"profile_name\": \"Priscila Spadinger\", \"occupation\": [\"Shareholder\"], \"date_of_birth\": null}, {\"name\": \"Alessandra Alkimin Costa\", \"profile_name\": \"Alessandra Costa\", \"occupation\": [\"Director\"], \"date_of_birth\": \"1971-05-01\"}, {\"name\": \"Daniel Carvalho Melo\", \"profile_name\": \"Daniel Melo\", \"occupation\": [\"Director\"], \"date_of_birth\": \"1975-06-01\"}, {\"name\": \"Debora Marques De Miranda\", \"profile_name\": \"Debora Miranda\", \"occupation\": [\"Director\"], \"date_of_birth\": \"1977-03-01\"}, {\"name\": \"Guilherme Augusto Dias Reis\", \"profile_name\": \"Guilherme Reis\", \"occupation\": [\"Director\"], \"date_of_birth\": \"1984-05-01\"}, {\"name\": \"Marco Aurelio Romano Silva\", \"profile_name\": \"Marco Silva\", \"occupation\": [\"Director\"], \"date_of_birth\": \"1967-06-01\"}, {\"name\": \"Priscila Barbosa De Oliveira Spadinger\", \"profile_name\": \"Priscila Spadinger\", \"occupation\": [\"Director\"], \"date_of_birth\": \"1981-08-01\"}, {\"name\": \"Alessandra Alkimin\", \"profile_name\": \"Alessandra Alkimin\", \"occupation\": [\"Founder\"], \"date_of_birth\": null}, {\"name\": \"Daniel Carvalho Melo\", \"profile_name\": \"Daniel Melo\", \"occupation\": [\"Founder\"], \"date_of_birth\": null}, {\"name\": \"Debora Marques De\", \"profile_name\": \"Debora De\", \"occupation\": [\"Founder\"], \"date_of_birth\": null}, {\"name\": \"Guilherme Augusto\", \"profile_name\": \"Guilherme Augusto\", \"occupation\": [\"Founder\"], \"date_of_birth\": null}, {\"name\": \"Marco Aurelio Romano\", \"profile_name\": \"Marco Romano\", \"occupation\": [\"Founder\"], \"date_of_birth\": null}, {\"name\": \"Priscila Barbosa De Oliveira Spadinger\", \"profile_name\": \"Priscila Spadinger\", \"occupation\": [\"Founder\"], \"date_of_birth\": null}]'"
      ]
     },
     "execution_count": 408,
     "metadata": {},
     "output_type": "execute_result"
    }
   ],
   "source": [
    "persons = [{'name': 'Alessandra Alkimin Costa', 'profile_name': 'Alessandra Costa', 'occupation': ['Shareholder'], 'date_of_birth': None}, {'name': 'Daniel Carvalho Melo', 'profile_name': 'Daniel Melo', 'occupation': ['Shareholder'], 'date_of_birth': None}, {'name': 'Debora Marques De Miranda', 'profile_name': 'Debora Miranda', 'occupation': ['Shareholder'], 'date_of_birth': None}, {'name': 'Guilherme Augusto Dias Reis', 'profile_name': 'Guilherme Reis', 'occupation': ['Shareholder'], 'date_of_birth': None}, {'name': 'Marco Aurelio Romano Silva', 'profile_name': 'Marco Silva', 'occupation': ['Shareholder'], 'date_of_birth': None}, {'name': 'Priscila Barbosa De Oliveira Spadinger', 'profile_name': 'Priscila Spadinger', 'occupation': ['Shareholder'], 'date_of_birth': None}, {'name': 'Alessandra Alkimin Costa', 'profile_name': 'Alessandra Costa', 'occupation': ['Director'], 'date_of_birth': '1971-05-01'}, {'name': 'Daniel Carvalho Melo', 'profile_name': 'Daniel Melo', 'occupation': ['Director'], 'date_of_birth': '1975-06-01'}, {'name': 'Debora Marques De Miranda', 'profile_name': 'Debora Miranda', 'occupation': ['Director'], 'date_of_birth': '1977-03-01'}, {'name': 'Guilherme Augusto Dias Reis', 'profile_name': 'Guilherme Reis', 'occupation': ['Director'], 'date_of_birth': '1984-05-01'}, {'name': 'Marco Aurelio Romano Silva', 'profile_name': 'Marco Silva', 'occupation': ['Director'], 'date_of_birth': '1967-06-01'}, {'name': 'Priscila Barbosa De Oliveira Spadinger', 'profile_name': 'Priscila Spadinger', 'occupation': ['Director'], 'date_of_birth': '1981-08-01'}, {'name': 'Alessandra Alkimin', 'profile_name': 'Alessandra Alkimin', 'occupation': ['Founder'], 'date_of_birth': None}, {'name': 'Daniel Carvalho Melo', 'profile_name': 'Daniel Melo', 'occupation': ['Founder'], 'date_of_birth': None}, {'name': 'Debora Marques De', 'profile_name': 'Debora De', 'occupation': ['Founder'], 'date_of_birth': None}, {'name': 'Guilherme Augusto', 'profile_name': 'Guilherme Augusto', 'occupation': ['Founder'], 'date_of_birth': None}, {'name': 'Marco Aurelio Romano', 'profile_name': 'Marco Romano', 'occupation': ['Founder'], 'date_of_birth': None}, {'name': 'Priscila Barbosa De Oliveira Spadinger', 'profile_name': 'Priscila Spadinger', 'occupation': ['Founder'], 'date_of_birth': None}]\n",
    "import json\n",
    "json.dumps(persons)"
   ]
  },
  {
   "cell_type": "code",
   "execution_count": 416,
   "id": "985e2f32",
   "metadata": {},
   "outputs": [
    {
     "data": {
      "text/plain": [
       "[{'name': 'Alessandra Alkimin Costa',\n",
       "  'profile_name': 'Alessandra Costa',\n",
       "  'occupation': ['Director', 'Founder', 'Shareholder'],\n",
       "  'date_of_birth': '1971-05-01'},\n",
       " {'name': 'Daniel Carvalho Melo',\n",
       "  'profile_name': 'Daniel Melo',\n",
       "  'occupation': ['Director', 'Founder', 'Shareholder'],\n",
       "  'date_of_birth': '1975-06-01'},\n",
       " {'name': 'Debora Marques De Miranda',\n",
       "  'profile_name': 'Debora Miranda',\n",
       "  'occupation': ['Director', 'Founder', 'Shareholder'],\n",
       "  'date_of_birth': '1977-03-01'},\n",
       " {'name': 'Guilherme Augusto Dias Reis',\n",
       "  'profile_name': 'Guilherme Reis',\n",
       "  'occupation': ['Director', 'Founder', 'Shareholder'],\n",
       "  'date_of_birth': '1984-05-01'},\n",
       " {'name': 'Marco Aurelio Romano Silva',\n",
       "  'profile_name': 'Marco Silva',\n",
       "  'occupation': ['Director', 'Founder', 'Shareholder'],\n",
       "  'date_of_birth': '1967-06-01'},\n",
       " {'name': 'Priscila Barbosa De Oliveira Spadinger',\n",
       "  'profile_name': 'Priscila Spadinger',\n",
       "  'occupation': ['Director', 'Founder', 'Shareholder'],\n",
       "  'date_of_birth': '1981-08-01'}]"
      ]
     },
     "execution_count": 416,
     "metadata": {},
     "output_type": "execute_result"
    }
   ],
   "source": [
    "get_unique_officers(persons, occupations_name='occupation')"
   ]
  },
  {
   "cell_type": "code",
   "execution_count": 418,
   "id": "b569d445",
   "metadata": {},
   "outputs": [
    {
     "name": "stdout",
     "output_type": "stream",
     "text": [
      "['&', 'CAPITAL', 'COMPANY', 'CORP', 'CORPORATION', 'COUNCIL', 'EQUITY', 'FONDATION', 'FOUNDATION', 'GROUP', 'HOLDING', 'INVESTMENT', 'INVESTMENTS', 'LABS', 'LIMITED', 'MANAGEMENT', 'NOMINEE', 'PARTNER', 'PARTNERS', 'PARTNERSHIP', 'SCHOOL', 'STARTUP', 'SUPPORT', 'TRADING', 'TRUST', 'TRUSTEE', 'TRUSTEES', 'UNIVERSITY', 'VENTURE', 'VENTURES']\n"
     ]
    }
   ],
   "source": [
    "print(list(sorted(set(['LIMITED', 'GROUP', 'INVESTMENT', 'INVESTMENTS', 'CAPITAL', 'CORP',\n",
    "                      'CORPORATION', 'COMPANY', 'PARTNER', 'PARTNERS', 'PARTNERSHIP', 'EQUITY', 'VENTURE', 'VENTURES', 'STARTUP',\n",
    "                      'FONDATION', 'FOUNDATION', '&', 'TRUST', 'UNIVERSITY', 'SCHOOL', 'SUPPORT',\n",
    "                      'MANAGEMENT', 'NOMINEE', 'TRADING', 'HOLDING', 'LABS', 'TRUSTEE', 'TRUSTEES',\n",
    "                      'COUNCIL']))))"
   ]
  },
  {
   "cell_type": "code",
   "execution_count": 424,
   "id": "8d8b36be",
   "metadata": {},
   "outputs": [
    {
     "data": {
      "text/plain": [
       "' Rajesh F Nair A Hubert S C SP '"
      ]
     },
     "execution_count": 424,
     "metadata": {},
     "output_type": "execute_result"
    }
   ],
   "source": [
    "'. Rajesh F.Nair A. Hubert S.C.SP.'.replace('. ', ' ').replace('.', ' ')"
   ]
  },
  {
   "cell_type": "code",
   "execution_count": 425,
   "id": "573f953d",
   "metadata": {},
   "outputs": [],
   "source": [
    "USER_AGENTS = [\n",
    "                'Mozilla/5.0 (Windows NT 10.0; Win64; x64) AppleWebKit/537.36 (KHTML, like Gecko) Chrome/42.0.2311.135 Safari/537.36 Edge/12.246',\n",
    "                'Mozilla/5.0 (Windows NT 10.0; Win64; x64) AppleWebKit/537.36 (KHTML, like Gecko) Chrome/58.0.3029.110 Safari/537.3'\n",
    "                'Mozilla/5.0 (X11; CrOS x86_64 8172.45.0) AppleWebKit/537.36 (KHTML, like Gecko) Chrome/51.0.2704.64 Safari/537.36',\n",
    "                'Mozilla/5.0 (Macintosh; Intel Mac OS X 10_11_2) AppleWebKit/601.3.9 (KHTML, like Gecko) Version/9.0.2 Safari/601.3.9',\n",
    "                'Mozilla/5.0 (Windows NT 6.1; WOW64) AppleWebKit/537.36 (KHTML, like Gecko) Chrome/47.0.2526.111 Safari/537.36'\n",
    "              ]"
   ]
  },
  {
   "cell_type": "code",
   "execution_count": 426,
   "id": "f55a119d",
   "metadata": {},
   "outputs": [],
   "source": [
    "def get_user_agent(email):\n",
    "    index = hash(email) % len(USER_AGENTS)\n",
    "    return USER_AGENTS[index]\n",
    "\n"
   ]
  },
  {
   "cell_type": "code",
   "execution_count": 430,
   "id": "b6d56ed2",
   "metadata": {},
   "outputs": [
    {
     "data": {
      "text/plain": [
       "'Mozilla/5.0 (Linux; Android 10; K) AppleWebKit/537.36 (KHTML, like Gecko) Chrome/114.0.0.0 Mobile Safari/537.36,gzip(gfe)'"
      ]
     },
     "execution_count": 430,
     "metadata": {},
     "output_type": "execute_result"
    }
   ],
   "source": [
    "get_user_agent('djdjoko@gmail.com')"
   ]
  },
  {
   "cell_type": "code",
   "execution_count": null,
   "id": "5836fb3a",
   "metadata": {},
   "outputs": [],
   "source": []
  }
 ],
 "metadata": {
  "kernelspec": {
   "display_name": "Python 3 (ipykernel)",
   "language": "python",
   "name": "python3"
  },
  "language_info": {
   "codemirror_mode": {
    "name": "ipython",
    "version": 3
   },
   "file_extension": ".py",
   "mimetype": "text/x-python",
   "name": "python",
   "nbconvert_exporter": "python",
   "pygments_lexer": "ipython3",
   "version": "3.10.12"
  }
 },
 "nbformat": 4,
 "nbformat_minor": 5
}
