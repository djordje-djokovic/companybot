{
 "cells": [
  {
   "cell_type": "markdown",
   "id": "d1f8400c",
   "metadata": {},
   "source": [
    "### setup libraries"
   ]
  },
  {
   "cell_type": "code",
   "execution_count": 1,
   "id": "018c8174",
   "metadata": {},
   "outputs": [],
   "source": [
    "import os, time, json\n",
    "from webdriver_manager.chrome import ChromeDriverManager\n",
    "from selenium import webdriver\n",
    "from selenium.webdriver.chrome.service import Service\n",
    "from selenium.webdriver.common.by import By\n",
    "from selenium.webdriver.common.keys import Keys\n",
    "from bs4 import BeautifulSoup\n",
    "from datetime import datetime\n"
   ]
  },
  {
   "cell_type": "markdown",
   "id": "63a9441a",
   "metadata": {},
   "source": [
    "### define selenium driver"
   ]
  },
  {
   "cell_type": "code",
   "execution_count": 11,
   "id": "3df6f6bd",
   "metadata": {},
   "outputs": [],
   "source": [
    "# Set the path to the Brave browser executable\n",
    "brave_path = r'C:\\Program Files\\BraveSoftware\\Brave-Browser\\Application\\brave.exe'\n",
    "# Launch Brave browser using Selenium\n",
    "options = webdriver.ChromeOptions()\n",
    "options.binary_location = brave_path\n",
    "\n",
    "driver = webdriver.Chrome(\n",
    "    service=Service(ChromeDriverManager().install()),\n",
    "    options=options\n",
    ")"
   ]
  },
  {
   "cell_type": "markdown",
   "id": "748ef55a",
   "metadata": {},
   "source": [
    "### search name"
   ]
  },
  {
   "cell_type": "code",
   "execution_count": 47,
   "id": "85332bb5",
   "metadata": {},
   "outputs": [],
   "source": [
    "# search_name = 'elliptic enterprises limited'\n",
    "# search_name = 'made.com design limited\n",
    "search_name = 'Stability AI Ltd.'"
   ]
  },
  {
   "cell_type": "markdown",
   "id": "a091aded",
   "metadata": {},
   "source": [
    "### login to linkedin"
   ]
  },
  {
   "cell_type": "code",
   "execution_count": 48,
   "id": "2092dfdc",
   "metadata": {},
   "outputs": [],
   "source": [
    "main_link = 'https://find-and-update.company-information.service.gov.uk'\n",
    "# Opening Companies House's page \n",
    "search_name_string = '+'.join(search_name.split(' '))\n",
    "search_string = f\"search/companies?q={search_name_string}\"\n",
    "driver.get(f\"{main_link}/{search_string}\")\n"
   ]
  },
  {
   "cell_type": "markdown",
   "id": "cc6bc650",
   "metadata": {},
   "source": [
    "### find link for name"
   ]
  },
  {
   "cell_type": "code",
   "execution_count": 49,
   "id": "c09c62c9",
   "metadata": {
    "scrolled": true
   },
   "outputs": [],
   "source": [
    "src = driver.page_source\n",
    "# Now using beautiful soup\n",
    "soup = BeautifulSoup(src, 'lxml')"
   ]
  },
  {
   "cell_type": "code",
   "execution_count": 50,
   "id": "92ff8a18",
   "metadata": {},
   "outputs": [],
   "source": [
    "first_company = soup.find('ul', {'class': 'results-list'}).find_all('li', recursive=False)[0]"
   ]
  },
  {
   "cell_type": "code",
   "execution_count": 51,
   "id": "2d8dc87d",
   "metadata": {},
   "outputs": [
    {
     "name": "stdout",
     "output_type": "stream",
     "text": [
      "https://find-and-update.company-information.service.gov.uk/company/12295325\n"
     ]
    }
   ],
   "source": [
    "relative_link = first_company.find('a', {'class': 'govuk-link'})['href']\n",
    "link = f\"{main_link}{relative_link}\"\n",
    "print(link)"
   ]
  },
  {
   "cell_type": "code",
   "execution_count": null,
   "id": "3ba144c7",
   "metadata": {},
   "outputs": [],
   "source": []
  }
 ],
 "metadata": {
  "kernelspec": {
   "display_name": "Python 3 (ipykernel)",
   "language": "python",
   "name": "python3"
  },
  "language_info": {
   "codemirror_mode": {
    "name": "ipython",
    "version": 3
   },
   "file_extension": ".py",
   "mimetype": "text/x-python",
   "name": "python",
   "nbconvert_exporter": "python",
   "pygments_lexer": "ipython3",
   "version": "3.10.9"
  }
 },
 "nbformat": 4,
 "nbformat_minor": 5
}
