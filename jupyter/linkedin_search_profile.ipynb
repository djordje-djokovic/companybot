{
 "cells": [
  {
   "cell_type": "markdown",
   "id": "d1f8400c",
   "metadata": {},
   "source": [
    "### setup libraries"
   ]
  },
  {
   "cell_type": "code",
   "execution_count": 23,
   "id": "018c8174",
   "metadata": {},
   "outputs": [],
   "source": [
    "import os, time, json\n",
    "from webdriver_manager.chrome import ChromeDriverManager\n",
    "from selenium import webdriver\n",
    "from selenium.webdriver.chrome.service import Service\n",
    "from selenium.webdriver.common.by import By\n",
    "from selenium.webdriver.common.keys import Keys\n",
    "from bs4 import BeautifulSoup\n",
    "from datetime import datetime\n"
   ]
  },
  {
   "cell_type": "markdown",
   "id": "63a9441a",
   "metadata": {},
   "source": [
    "### define selenium driver"
   ]
  },
  {
   "cell_type": "code",
   "execution_count": 57,
   "id": "3df6f6bd",
   "metadata": {},
   "outputs": [],
   "source": [
    "# Set the path to the Brave browser executable\n",
    "brave_path = r'C:\\Program Files\\BraveSoftware\\Brave-Browser\\Application\\brave.exe'\n",
    "# Launch Brave browser using Selenium\n",
    "options = webdriver.ChromeOptions()\n",
    "options.binary_location = brave_path\n",
    "\n",
    "driver = webdriver.Chrome(\n",
    "    service=Service(ChromeDriverManager().install()),\n",
    "    options=options\n",
    ")"
   ]
  },
  {
   "cell_type": "markdown",
   "id": "a091aded",
   "metadata": {},
   "source": [
    "### login to linkedin"
   ]
  },
  {
   "cell_type": "code",
   "execution_count": 58,
   "id": "2092dfdc",
   "metadata": {},
   "outputs": [],
   "source": [
    "user_email = 'djdjoko@gmail.com'\n",
    "user_pwd = 'PItuUT^pYp7c3WvZ!871hziDF'\n",
    "\n",
    "# Opening linkedIn's login page\n",
    "driver.get(\"https://linkedin.com/uas/login\")\n",
    " \n",
    "# waiting for the page to load\n",
    "time.sleep(5)\n",
    " \n",
    "# entering username\n",
    "username = driver.find_element(By.ID, \"username\")\n",
    " \n",
    "# In case of an error, try changing the element\n",
    "# tag used here.\n",
    " \n",
    "# Enter Your Email Address\n",
    "username.send_keys(user_email) \n",
    " \n",
    "# entering password\n",
    "pword = driver.find_element(By.ID, \"password\")\n",
    "# In case of an error, try changing the element\n",
    "# tag used here.\n",
    " \n",
    "# Enter Your Password\n",
    "pword.send_keys(user_pwd)       \n",
    " \n",
    "# Clicking on the log in button\n",
    "# Format (syntax) of writing XPath -->\n",
    "# //tagname[@attribute='value']\n",
    "driver.find_element(By.XPATH, \"//button[@type='submit']\").click()\n",
    "# In case of an error, try changing the\n",
    "# XPath used here."
   ]
  },
  {
   "cell_type": "markdown",
   "id": "cc6bc650",
   "metadata": {},
   "source": [
    "### find link for name"
   ]
  },
  {
   "cell_type": "code",
   "execution_count": 59,
   "id": "707e509b",
   "metadata": {},
   "outputs": [],
   "source": [
    "search_name = 'Branko Jevtic Maven'"
   ]
  },
  {
   "cell_type": "code",
   "execution_count": 60,
   "id": "f8b597b1",
   "metadata": {},
   "outputs": [],
   "source": [
    "# find user by name\n",
    "driver.get('https://www.linkedin.com/search/results/people/')\n",
    "search = driver.find_element(By.CLASS_NAME, 'search-global-typeahead__input')\n",
    "search.send_keys(search_name)\n",
    "search.send_keys(Keys.RETURN)"
   ]
  },
  {
   "cell_type": "code",
   "execution_count": 62,
   "id": "c09c62c9",
   "metadata": {
    "scrolled": true
   },
   "outputs": [],
   "source": [
    "src = driver.page_source\n",
    "# Now using beautiful soup\n",
    "soup = BeautifulSoup(src, 'lxml')"
   ]
  },
  {
   "cell_type": "code",
   "execution_count": 82,
   "id": "92ff8a18",
   "metadata": {},
   "outputs": [
    {
     "name": "stdout",
     "output_type": "stream",
     "text": [
      "https://www.linkedin.com/in/branko-jevtic-752a008\n"
     ]
    }
   ],
   "source": [
    "# soup.find_all('a', {'class': 'app-aware-link'})\n",
    "list_element = soup.find('ul', {'class': 'reusable-search__entity-result-list list-style-none'}).find_all('li', recursive=False)\n",
    "# take first element in list \n",
    "link = list_element[0].find('a', {'class': 'app-aware-link'})['href'].split('?')[0]\n",
    "print(link)"
   ]
  }
 ],
 "metadata": {
  "kernelspec": {
   "display_name": "Python 3 (ipykernel)",
   "language": "python",
   "name": "python3"
  },
  "language_info": {
   "codemirror_mode": {
    "name": "ipython",
    "version": 3
   },
   "file_extension": ".py",
   "mimetype": "text/x-python",
   "name": "python",
   "nbconvert_exporter": "python",
   "pygments_lexer": "ipython3",
   "version": "3.10.9"
  }
 },
 "nbformat": 4,
 "nbformat_minor": 5
}
