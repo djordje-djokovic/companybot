{
 "cells": [
  {
   "cell_type": "code",
   "execution_count": 1,
   "id": "286f62a1",
   "metadata": {},
   "outputs": [],
   "source": [
    "import sys, psycopg2\n",
    "import pandas as pd\n",
    "sys.path.append('C:\\\\Projects\\\\uni\\\\sources\\\\companybot\\\\')\n",
    "from datetime import datetime\n",
    "from bots.config import DB_NAME, DB_HOST, DB_USER, DB_PASSWORD, CRUNCHBASE_DIR\n",
    "from bots.common import get_data_diff, get_uuids_from_crunchbase_organizations, DataSource, PendingStatus\n",
    "from bots.companieshouse_bot import CompaniesHouseBot\n",
    "from bots.crunchbase_bot import run_crunchbase_bot\n",
    "from bots.linkedin_bot import run_linkedin_bot"
   ]
  },
  {
   "cell_type": "markdown",
   "id": "ea01afbd",
   "metadata": {},
   "source": [
    "## write all data based on list of names"
   ]
  },
  {
   "cell_type": "markdown",
   "id": "2a6968b9",
   "metadata": {},
   "source": [
    "### get uuids by name"
   ]
  },
  {
   "cell_type": "code",
   "execution_count": 2,
   "id": "4c4479b1",
   "metadata": {},
   "outputs": [
    {
     "data": {
      "text/html": [
       "<div>\n",
       "<style scoped>\n",
       "    .dataframe tbody tr th:only-of-type {\n",
       "        vertical-align: middle;\n",
       "    }\n",
       "\n",
       "    .dataframe tbody tr th {\n",
       "        vertical-align: top;\n",
       "    }\n",
       "\n",
       "    .dataframe thead th {\n",
       "        text-align: right;\n",
       "    }\n",
       "</style>\n",
       "<table border=\"1\" class=\"dataframe\">\n",
       "  <thead>\n",
       "    <tr style=\"text-align: right;\">\n",
       "      <th></th>\n",
       "      <th>name</th>\n",
       "      <th>founded_on</th>\n",
       "    </tr>\n",
       "  </thead>\n",
       "  <tbody>\n",
       "    <tr>\n",
       "      <th>0</th>\n",
       "      <td>iSIZE Technologies</td>\n",
       "      <td>2016-09-22</td>\n",
       "    </tr>\n",
       "    <tr>\n",
       "      <th>1</th>\n",
       "      <td>Elliptic</td>\n",
       "      <td>2013-10-01</td>\n",
       "    </tr>\n",
       "    <tr>\n",
       "      <th>2</th>\n",
       "      <td>Verisize</td>\n",
       "      <td>2012-01-01</td>\n",
       "    </tr>\n",
       "    <tr>\n",
       "      <th>3</th>\n",
       "      <td>Elliptic Marketing</td>\n",
       "      <td>2014-01-01</td>\n",
       "    </tr>\n",
       "    <tr>\n",
       "      <th>4</th>\n",
       "      <td>Elliptic Ventures</td>\n",
       "      <td>2018-01-01</td>\n",
       "    </tr>\n",
       "    <tr>\n",
       "      <th>5</th>\n",
       "      <td>Elliptical Machines</td>\n",
       "      <td>2019-01-01</td>\n",
       "    </tr>\n",
       "    <tr>\n",
       "      <th>6</th>\n",
       "      <td>Elliptical Mobile Solutions</td>\n",
       "      <td>2018-01-01</td>\n",
       "    </tr>\n",
       "    <tr>\n",
       "      <th>7</th>\n",
       "      <td>EllipticalHub</td>\n",
       "      <td>2013-10-02</td>\n",
       "    </tr>\n",
       "    <tr>\n",
       "      <th>8</th>\n",
       "      <td>Mobilisize</td>\n",
       "      <td>2013-01-01</td>\n",
       "    </tr>\n",
       "  </tbody>\n",
       "</table>\n",
       "</div>"
      ],
      "text/plain": [
       "                          name  founded_on\n",
       "0           iSIZE Technologies  2016-09-22\n",
       "1                     Elliptic  2013-10-01\n",
       "2                     Verisize  2012-01-01\n",
       "3           Elliptic Marketing  2014-01-01\n",
       "4            Elliptic Ventures  2018-01-01\n",
       "5          Elliptical Machines  2019-01-01\n",
       "6  Elliptical Mobile Solutions  2018-01-01\n",
       "7                EllipticalHub  2013-10-02\n",
       "8                   Mobilisize  2013-01-01"
      ]
     },
     "execution_count": 2,
     "metadata": {},
     "output_type": "execute_result"
    }
   ],
   "source": [
    "names = ['elliptic', 'isize']\n",
    "df_uuids = pd.DataFrame(get_uuids_from_crunchbase_organizations(names))\n",
    "uuids = list(df_uuids['uuid'])\n",
    "df_uuids[['name', 'founded_on']]"
   ]
  },
  {
   "cell_type": "code",
   "execution_count": 7,
   "id": "5314e02a",
   "metadata": {
    "scrolled": true
   },
   "outputs": [
    {
     "data": {
      "text/html": [
       "<div>\n",
       "<style scoped>\n",
       "    .dataframe tbody tr th:only-of-type {\n",
       "        vertical-align: middle;\n",
       "    }\n",
       "\n",
       "    .dataframe tbody tr th {\n",
       "        vertical-align: top;\n",
       "    }\n",
       "\n",
       "    .dataframe thead th {\n",
       "        text-align: right;\n",
       "    }\n",
       "</style>\n",
       "<table border=\"1\" class=\"dataframe\">\n",
       "  <thead>\n",
       "    <tr style=\"text-align: right;\">\n",
       "      <th></th>\n",
       "      <th>uuid</th>\n",
       "      <th>uuid_parent</th>\n",
       "      <th>name</th>\n",
       "      <th>legal_name</th>\n",
       "      <th>category_groups_list</th>\n",
       "      <th>founded_on</th>\n",
       "      <th>source</th>\n",
       "      <th>status</th>\n",
       "      <th>version</th>\n",
       "      <th>created_at</th>\n",
       "      <th>updated_at</th>\n",
       "      <th>crunchbase_data</th>\n",
       "    </tr>\n",
       "  </thead>\n",
       "  <tbody>\n",
       "    <tr>\n",
       "      <th>0</th>\n",
       "      <td>5fd4dcb9-77ec-8903-5300-dd4c3da76670</td>\n",
       "      <td>5fd4dcb9-77ec-8903-5300-dd4c3da76670</td>\n",
       "      <td>Elliptic</td>\n",
       "      <td>Elliptic Enterprises Ltd.</td>\n",
       "      <td>[Financial Services, Other, Payments, Software]</td>\n",
       "      <td>2013-10-01</td>\n",
       "      <td>companies_house</td>\n",
       "      <td>pending</td>\n",
       "      <td></td>\n",
       "      <td>2023-05-25 12:44:07</td>\n",
       "      <td>2023-05-25 12:44:07</td>\n",
       "      <td>{'properties': {'company_type': 'for_profit', ...</td>\n",
       "    </tr>\n",
       "    <tr>\n",
       "      <th>1</th>\n",
       "      <td>a7d2f427-66ba-476a-81cc-171a5d806b22</td>\n",
       "      <td>a7d2f427-66ba-476a-81cc-171a5d806b22</td>\n",
       "      <td>iSIZE Technologies</td>\n",
       "      <td>iSIZE Limited.</td>\n",
       "      <td>[Artificial Intelligence, Content and Publishi...</td>\n",
       "      <td>2016-09-22</td>\n",
       "      <td>companies_house</td>\n",
       "      <td>pending</td>\n",
       "      <td></td>\n",
       "      <td>2023-05-25 12:15:53</td>\n",
       "      <td>2023-05-25 12:15:53</td>\n",
       "      <td>{'properties': {'company_type': 'for_profit', ...</td>\n",
       "    </tr>\n",
       "  </tbody>\n",
       "</table>\n",
       "</div>"
      ],
      "text/plain": [
       "                                   uuid                           uuid_parent   \n",
       "0  5fd4dcb9-77ec-8903-5300-dd4c3da76670  5fd4dcb9-77ec-8903-5300-dd4c3da76670  \\\n",
       "1  a7d2f427-66ba-476a-81cc-171a5d806b22  a7d2f427-66ba-476a-81cc-171a5d806b22   \n",
       "\n",
       "                 name                 legal_name   \n",
       "0            Elliptic  Elliptic Enterprises Ltd.  \\\n",
       "1  iSIZE Technologies             iSIZE Limited.   \n",
       "\n",
       "                                category_groups_list founded_on   \n",
       "0    [Financial Services, Other, Payments, Software] 2013-10-01  \\\n",
       "1  [Artificial Intelligence, Content and Publishi... 2016-09-22   \n",
       "\n",
       "            source   status version          created_at          updated_at   \n",
       "0  companies_house  pending         2023-05-25 12:44:07 2023-05-25 12:44:07  \\\n",
       "1  companies_house  pending         2023-05-25 12:15:53 2023-05-25 12:15:53   \n",
       "\n",
       "                                     crunchbase_data  \n",
       "0  {'properties': {'company_type': 'for_profit', ...  \n",
       "1  {'properties': {'company_type': 'for_profit', ...  "
      ]
     },
     "execution_count": 7,
     "metadata": {},
     "output_type": "execute_result"
    }
   ],
   "source": [
    "pd.DataFrame(CompaniesHouseBot.get_data_from_pending(uuids=uuids, force=True))"
   ]
  }
 ],
 "metadata": {
  "kernelspec": {
   "display_name": "Python 3 (ipykernel)",
   "language": "python",
   "name": "python3"
  },
  "language_info": {
   "codemirror_mode": {
    "name": "ipython",
    "version": 3
   },
   "file_extension": ".py",
   "mimetype": "text/x-python",
   "name": "python",
   "nbconvert_exporter": "python",
   "pygments_lexer": "ipython3",
   "version": "3.11.4"
  }
 },
 "nbformat": 4,
 "nbformat_minor": 5
}
